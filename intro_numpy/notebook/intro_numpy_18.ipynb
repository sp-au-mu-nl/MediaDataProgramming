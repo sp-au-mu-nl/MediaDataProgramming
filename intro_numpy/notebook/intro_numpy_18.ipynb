{
  "nbformat": 4,
  "nbformat_minor": 0,
  "metadata": {
    "colab": {
      "provenance": [],
      "authorship_tag": "ABX9TyM/NdQe6gCF366/kp+l9Ymn",
      "include_colab_link": true
    },
    "kernelspec": {
      "name": "python3",
      "display_name": "Python 3"
    },
    "language_info": {
      "name": "python"
    }
  },
  "cells": [
    {
      "cell_type": "markdown",
      "metadata": {
        "id": "view-in-github",
        "colab_type": "text"
      },
      "source": [
        "<a href=\"https://colab.research.google.com/github/sp-au-mu-nl/MediaDataProgramming/blob/main/intro_numpy/notebook/intro_numpy_18.ipynb\" target=\"_parent\"><img src=\"https://colab.research.google.com/assets/colab-badge.svg\" alt=\"Open In Colab\"/></a>"
      ]
    },
    {
      "cell_type": "markdown",
      "source": [
        "# polars の dataframe としてのデータのインポート"
      ],
      "metadata": {
        "id": "UJP3gG_kfaXC"
      }
    },
    {
      "cell_type": "code",
      "source": [
        "import dill\n",
        "import polars as pl"
      ],
      "metadata": {
        "id": "S5BUx88Du5OQ"
      },
      "execution_count": null,
      "outputs": []
    },
    {
      "cell_type": "code",
      "source": [
        "!wget https://github.com/sp-au-mu-nl/MediaDataProgramming/raw/refs/heads/main/intro_numpy/data/datafile.pkl"
      ],
      "metadata": {
        "colab": {
          "base_uri": "https://localhost:8080/"
        },
        "id": "BukK0uyzhk4p",
        "outputId": "412836f6-9b63-4086-90e6-9419e853f1a7"
      },
      "execution_count": null,
      "outputs": [
        {
          "output_type": "stream",
          "name": "stdout",
          "text": [
            "--2025-08-26 13:18:05--  https://github.com/sp-au-mu-nl/MediaDataProgramming/raw/refs/heads/main/intro_numpy/data/datafile.pkl\n",
            "Resolving github.com (github.com)... 140.82.113.3\n",
            "Connecting to github.com (github.com)|140.82.113.3|:443... connected.\n",
            "HTTP request sent, awaiting response... 302 Found\n",
            "Location: https://raw.githubusercontent.com/sp-au-mu-nl/MediaDataProgramming/refs/heads/main/intro_numpy/data/datafile.pkl [following]\n",
            "--2025-08-26 13:18:06--  https://raw.githubusercontent.com/sp-au-mu-nl/MediaDataProgramming/refs/heads/main/intro_numpy/data/datafile.pkl\n",
            "Resolving raw.githubusercontent.com (raw.githubusercontent.com)... 185.199.110.133, 185.199.111.133, 185.199.109.133, ...\n",
            "Connecting to raw.githubusercontent.com (raw.githubusercontent.com)|185.199.110.133|:443... connected.\n",
            "HTTP request sent, awaiting response... 200 OK\n",
            "Length: 1720 (1.7K) [application/octet-stream]\n",
            "Saving to: ‘datafile.pkl’\n",
            "\n",
            "datafile.pkl        100%[===================>]   1.68K  --.-KB/s    in 0s      \n",
            "\n",
            "2025-08-26 13:18:06 (15.0 MB/s) - ‘datafile.pkl’ saved [1720/1720]\n",
            "\n"
          ]
        }
      ]
    },
    {
      "cell_type": "code",
      "source": [
        "dill.load_session('datafile.pkl')"
      ],
      "metadata": {
        "id": "4BIsCXJGu8eR"
      },
      "execution_count": null,
      "outputs": []
    },
    {
      "cell_type": "code",
      "source": [
        "elements"
      ],
      "metadata": {
        "colab": {
          "base_uri": "https://localhost:8080/",
          "height": 318
        },
        "id": "zhTMu2o0vbx_",
        "outputId": "c8139df8-11cd-4c44-b510-5e716029fd8f"
      },
      "execution_count": null,
      "outputs": [
        {
          "output_type": "execute_result",
          "data": {
            "text/plain": [
              "shape: (7, 4)\n",
              "┌───────────┬─────────┬─────────┬─────────┐\n",
              "│ Element   ┆ Density ┆ Volume1 ┆ Volume2 │\n",
              "│ ---       ┆ ---     ┆ ---     ┆ ---     │\n",
              "│ str       ┆ f64     ┆ f64     ┆ f64     │\n",
              "╞═══════════╪═════════╪═════════╪═════════╡\n",
              "│ Lithium   ┆ 0.53    ┆ 4.0753  ┆ NaN     │\n",
              "│ Argon     ┆ 1.78    ┆ 6.6678  ┆ 2.1328  │\n",
              "│ Potassium ┆ 0.86    ┆ 1.5177  ┆ 3.6852  │\n",
              "│ Calcium   ┆ 1.6     ┆ 3.6375  ┆ 8.5389  │\n",
              "│ Scandium  ┆ 3.0     ┆ 4.7243  ┆ 10.157  │\n",
              "│ Vanadium  ┆ 6.11    ┆ 9.0698  ┆ 2.8739  │\n",
              "│ Strontium ┆ 2.54    ┆ 5.3002  ┆ 4.4508  │\n",
              "└───────────┴─────────┴─────────┴─────────┘"
            ],
            "text/html": [
              "<div><style>\n",
              ".dataframe > thead > tr,\n",
              ".dataframe > tbody > tr {\n",
              "  text-align: right;\n",
              "  white-space: pre-wrap;\n",
              "}\n",
              "</style>\n",
              "<small>shape: (7, 4)</small><table border=\"1\" class=\"dataframe\"><thead><tr><th>Element</th><th>Density</th><th>Volume1</th><th>Volume2</th></tr><tr><td>str</td><td>f64</td><td>f64</td><td>f64</td></tr></thead><tbody><tr><td>&quot;Lithium&quot;</td><td>0.53</td><td>4.0753</td><td>NaN</td></tr><tr><td>&quot;Argon&quot;</td><td>1.78</td><td>6.6678</td><td>2.1328</td></tr><tr><td>&quot;Potassium&quot;</td><td>0.86</td><td>1.5177</td><td>3.6852</td></tr><tr><td>&quot;Calcium&quot;</td><td>1.6</td><td>3.6375</td><td>8.5389</td></tr><tr><td>&quot;Scandium&quot;</td><td>3.0</td><td>4.7243</td><td>10.157</td></tr><tr><td>&quot;Vanadium&quot;</td><td>6.11</td><td>9.0698</td><td>2.8739</td></tr><tr><td>&quot;Strontium&quot;</td><td>2.54</td><td>5.3002</td><td>4.4508</td></tr></tbody></table></div>"
            ]
          },
          "metadata": {},
          "execution_count": 4
        }
      ]
    },
    {
      "cell_type": "markdown",
      "source": [
        "(polars の) datafrmae から (Series) 変数を抽出するには、列名を利用します。\n",
        "```\n",
        "データフレーム名['列名']\n",
        "```\n",
        "Series 変数を numpy の ndarray に変換するには、to_numpy メソッドを利用します。\n",
        "\n",
        "elements['Density'] の内容を d にベクトルとして代入しましょう。\n",
        "\n"
      ],
      "metadata": {
        "id": "drHLTJ2PvitM"
      }
    },
    {
      "cell_type": "code",
      "source": [
        "\n"
      ],
      "metadata": {
        "colab": {
          "base_uri": "https://localhost:8080/"
        },
        "id": "0FJhDGSJwKYD",
        "outputId": "aa6a2a80-75cd-498e-8103-9b05255b4840"
      },
      "execution_count": null,
      "outputs": [
        {
          "output_type": "execute_result",
          "data": {
            "text/plain": [
              "array([0.53, 1.78, 0.86, 1.6 , 3.  , 6.11, 2.54])"
            ]
          },
          "metadata": {},
          "execution_count": 5
        }
      ]
    },
    {
      "cell_type": "markdown",
      "source": [
        "dataframe で作業をしている場合、関連するデータをまとめておくこともできます。別々の変数を作成する代わりに、計算の結果を dataframe に追加することができます。\n",
        "```\n",
        "<データフレーム> = <データフレーム>.with_columns((pl.col('HeightYards')*0.9144).alias('HeightMeters'))\n",
        "```\n",
        "変数 <データ>.HeightMeters が存在しない場合、polars は HeightMeters という名前で dataframe に新しい列を追加します。\n",
        "\n",
        "elements['Density'] の各要素を elements['Volume1'] で乗算します。\n",
        "\n",
        "その結果を elements['Mass'] に代入します。"
      ],
      "metadata": {
        "id": "E7xE9OqaxEjC"
      }
    },
    {
      "cell_type": "code",
      "source": [
        "\n"
      ],
      "metadata": {
        "colab": {
          "base_uri": "https://localhost:8080/",
          "height": 318
        },
        "id": "yqhleayixhmg",
        "outputId": "f4ce31f7-ed8f-4221-885a-5ffc69553b57"
      },
      "execution_count": null,
      "outputs": [
        {
          "output_type": "execute_result",
          "data": {
            "text/plain": [
              "shape: (7, 5)\n",
              "┌───────────┬─────────┬─────────┬─────────┬───────────┐\n",
              "│ Element   ┆ Density ┆ Volume1 ┆ Volume2 ┆ Mass      │\n",
              "│ ---       ┆ ---     ┆ ---     ┆ ---     ┆ ---       │\n",
              "│ str       ┆ f64     ┆ f64     ┆ f64     ┆ f64       │\n",
              "╞═══════════╪═════════╪═════════╪═════════╪═══════════╡\n",
              "│ Lithium   ┆ 0.53    ┆ 4.0753  ┆ NaN     ┆ 2.159909  │\n",
              "│ Argon     ┆ 1.78    ┆ 6.6678  ┆ 2.1328  ┆ 11.868684 │\n",
              "│ Potassium ┆ 0.86    ┆ 1.5177  ┆ 3.6852  ┆ 1.305222  │\n",
              "│ Calcium   ┆ 1.6     ┆ 3.6375  ┆ 8.5389  ┆ 5.82      │\n",
              "│ Scandium  ┆ 3.0     ┆ 4.7243  ┆ 10.157  ┆ 14.1729   │\n",
              "│ Vanadium  ┆ 6.11    ┆ 9.0698  ┆ 2.8739  ┆ 55.416478 │\n",
              "│ Strontium ┆ 2.54    ┆ 5.3002  ┆ 4.4508  ┆ 13.462508 │\n",
              "└───────────┴─────────┴─────────┴─────────┴───────────┘"
            ],
            "text/html": [
              "<div><style>\n",
              ".dataframe > thead > tr,\n",
              ".dataframe > tbody > tr {\n",
              "  text-align: right;\n",
              "  white-space: pre-wrap;\n",
              "}\n",
              "</style>\n",
              "<small>shape: (7, 5)</small><table border=\"1\" class=\"dataframe\"><thead><tr><th>Element</th><th>Density</th><th>Volume1</th><th>Volume2</th><th>Mass</th></tr><tr><td>str</td><td>f64</td><td>f64</td><td>f64</td><td>f64</td></tr></thead><tbody><tr><td>&quot;Lithium&quot;</td><td>0.53</td><td>4.0753</td><td>NaN</td><td>2.159909</td></tr><tr><td>&quot;Argon&quot;</td><td>1.78</td><td>6.6678</td><td>2.1328</td><td>11.868684</td></tr><tr><td>&quot;Potassium&quot;</td><td>0.86</td><td>1.5177</td><td>3.6852</td><td>1.305222</td></tr><tr><td>&quot;Calcium&quot;</td><td>1.6</td><td>3.6375</td><td>8.5389</td><td>5.82</td></tr><tr><td>&quot;Scandium&quot;</td><td>3.0</td><td>4.7243</td><td>10.157</td><td>14.1729</td></tr><tr><td>&quot;Vanadium&quot;</td><td>6.11</td><td>9.0698</td><td>2.8739</td><td>55.416478</td></tr><tr><td>&quot;Strontium&quot;</td><td>2.54</td><td>5.3002</td><td>4.4508</td><td>13.462508</td></tr></tbody></table></div>"
            ]
          },
          "metadata": {},
          "execution_count": 6
        }
      ]
    },
    {
      "cell_type": "markdown",
      "source": [
        "dataframe の sort メソッドを使って、dataframe を並べ替えることができます。\n",
        "```\n",
        "<データフレーム>.sort('列名')\n",
        "```\n",
        "とすると、列名のデータの昇順に行が並べ替えられます。\n",
        "\n"
      ],
      "metadata": {
        "id": "BiMBaeRN0QUd"
      }
    },
    {
      "cell_type": "code",
      "source": [
        "elements.sort('Mass')"
      ],
      "metadata": {
        "colab": {
          "base_uri": "https://localhost:8080/",
          "height": 318
        },
        "id": "yjgbPiL40ZrI",
        "outputId": "896c5ca7-3aad-42b4-86a6-7a02590f43d4"
      },
      "execution_count": null,
      "outputs": [
        {
          "output_type": "execute_result",
          "data": {
            "text/plain": [
              "shape: (7, 5)\n",
              "┌───────────┬─────────┬─────────┬─────────┬───────────┐\n",
              "│ Element   ┆ Density ┆ Volume1 ┆ Volume2 ┆ Mass      │\n",
              "│ ---       ┆ ---     ┆ ---     ┆ ---     ┆ ---       │\n",
              "│ str       ┆ f64     ┆ f64     ┆ f64     ┆ f64       │\n",
              "╞═══════════╪═════════╪═════════╪═════════╪═══════════╡\n",
              "│ Potassium ┆ 0.86    ┆ 1.5177  ┆ 3.6852  ┆ 1.305222  │\n",
              "│ Lithium   ┆ 0.53    ┆ 4.0753  ┆ NaN     ┆ 2.159909  │\n",
              "│ Calcium   ┆ 1.6     ┆ 3.6375  ┆ 8.5389  ┆ 5.82      │\n",
              "│ Argon     ┆ 1.78    ┆ 6.6678  ┆ 2.1328  ┆ 11.868684 │\n",
              "│ Strontium ┆ 2.54    ┆ 5.3002  ┆ 4.4508  ┆ 13.462508 │\n",
              "│ Scandium  ┆ 3.0     ┆ 4.7243  ┆ 10.157  ┆ 14.1729   │\n",
              "│ Vanadium  ┆ 6.11    ┆ 9.0698  ┆ 2.8739  ┆ 55.416478 │\n",
              "└───────────┴─────────┴─────────┴─────────┴───────────┘"
            ],
            "text/html": [
              "<div><style>\n",
              ".dataframe > thead > tr,\n",
              ".dataframe > tbody > tr {\n",
              "  text-align: right;\n",
              "  white-space: pre-wrap;\n",
              "}\n",
              "</style>\n",
              "<small>shape: (7, 5)</small><table border=\"1\" class=\"dataframe\"><thead><tr><th>Element</th><th>Density</th><th>Volume1</th><th>Volume2</th><th>Mass</th></tr><tr><td>str</td><td>f64</td><td>f64</td><td>f64</td><td>f64</td></tr></thead><tbody><tr><td>&quot;Potassium&quot;</td><td>0.86</td><td>1.5177</td><td>3.6852</td><td>1.305222</td></tr><tr><td>&quot;Lithium&quot;</td><td>0.53</td><td>4.0753</td><td>NaN</td><td>2.159909</td></tr><tr><td>&quot;Calcium&quot;</td><td>1.6</td><td>3.6375</td><td>8.5389</td><td>5.82</td></tr><tr><td>&quot;Argon&quot;</td><td>1.78</td><td>6.6678</td><td>2.1328</td><td>11.868684</td></tr><tr><td>&quot;Strontium&quot;</td><td>2.54</td><td>5.3002</td><td>4.4508</td><td>13.462508</td></tr><tr><td>&quot;Scandium&quot;</td><td>3.0</td><td>4.7243</td><td>10.157</td><td>14.1729</td></tr><tr><td>&quot;Vanadium&quot;</td><td>6.11</td><td>9.0698</td><td>2.8739</td><td>55.416478</td></tr></tbody></table></div>"
            ]
          },
          "metadata": {},
          "execution_count": 7
        }
      ]
    },
    {
      "cell_type": "markdown",
      "source": [
        "polars の dataframe では、行番号で抽出するときは、slice メソッドを利用できます。\n",
        "\n",
        "elements の最初の 3 行を抽出するには次のようにします。"
      ],
      "metadata": {
        "id": "UVndaCv8-0Ov"
      }
    },
    {
      "cell_type": "code",
      "source": [
        "top3 = elements.slice(0,3)"
      ],
      "metadata": {
        "id": "_RGLGXSj-Zl4"
      },
      "execution_count": null,
      "outputs": []
    },
    {
      "cell_type": "markdown",
      "source": [
        "top3 も dataframe であることに注意してください。"
      ],
      "metadata": {
        "id": "O1C_Sjoh_Kxl"
      }
    }
  ]
}