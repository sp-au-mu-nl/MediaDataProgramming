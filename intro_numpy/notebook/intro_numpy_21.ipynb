{
  "nbformat": 4,
  "nbformat_minor": 0,
  "metadata": {
    "colab": {
      "provenance": [],
      "authorship_tag": "ABX9TyMKKtUrBxm6Thmsf8DsVSZD",
      "include_colab_link": true
    },
    "kernelspec": {
      "name": "python3",
      "display_name": "Python 3"
    },
    "language_info": {
      "name": "python"
    }
  },
  "cells": [
    {
      "cell_type": "markdown",
      "metadata": {
        "id": "view-in-github",
        "colab_type": "text"
      },
      "source": [
        "<a href=\"https://colab.research.google.com/github/sp-au-mu-nl/MediaDataProgramming/blob/main/intro_numpy/notebook/intro_numpy_21.ipynb\" target=\"_parent\"><img src=\"https://colab.research.google.com/assets/colab-badge.svg\" alt=\"Open In Colab\"/></a>"
      ]
    },
    {
      "cell_type": "markdown",
      "source": [
        "# for ループ"
      ],
      "metadata": {
        "id": "AReEaj6Hg5e_"
      }
    },
    {
      "cell_type": "code",
      "source": [
        "import numpy as np\n",
        "import matplotlib.pyplot as plt\n",
        "import time\n",
        "\n",
        "data = np.array([[0.53, 4.0753, np.nan],\n",
        "              [1.78, 6.6678, 2.1328],\n",
        "              [0.86, 1.5177, 3.6852],\n",
        "              [1.6, 3.6375, 8.5389],\n",
        "              [3, 4.7243, 10.157],\n",
        "              [6.11, 9.0698, 2.8739],\n",
        "              [2.54, 5.3002, 4.4508]])\n",
        "element = ['Lithium',\n",
        "'Argon',\n",
        "'Potassium',\n",
        "'Calcium',\n",
        "'Scandium',\n",
        "'Vanadium',\n",
        "'Strontium',]\n",
        "density = data[:,0]"
      ],
      "metadata": {
        "id": "lm4E7kHz1QD1"
      },
      "execution_count": null,
      "outputs": []
    },
    {
      "cell_type": "markdown",
      "source": [
        "このコードが実行されると、ループ カウンター (c) が値 (0、1、2) を順に辿るのに合わせて、ループ本体が 3 回実行されます。\n",
        "```\n",
        "for c in range(3): # c はループカウンター\n",
        "  print(c) # 本体\n",
        "```\n",
        "\n",
        "下記のセルでコードをラップしてループにし、コードが 7 回実行されるようにします。\n",
        "\n",
        "ループ カウンターに idx という名前を付けます。ループの最初の実行で idx は 0 から始まり、連続する反復ごとに 1 ずつ増えます。"
      ],
      "metadata": {
        "id": "Yaf9lns31FyN"
      }
    },
    {
      "cell_type": "code",
      "execution_count": null,
      "metadata": {
        "colab": {
          "base_uri": "https://localhost:8080/",
          "height": 430
        },
        "id": "KRkFuIrM0zRM",
        "outputId": "fac2f0ef-ccf7-49a6-8aac-05a00c8a067b"
      },
      "outputs": [
        {
          "output_type": "display_data",
          "data": {
            "text/plain": [
              "<Figure size 640x480 with 1 Axes>"
            ],
            "image/png": "[encoded data removed]"
          },
          "metadata": {}
        }
      ],
      "source": [
        "\n",
        "  plt.plot(idx,density[idx],'*')"
      ]
    },
    {
      "cell_type": "markdown",
      "source": [
        "density ベクトルが 7 個の要素をもつため、ループは 7 回実行されます。長さが不明なベクトルをループする場合は、関数 len を使用します。\n",
        "```\n",
        "for idx in range(len(density)):\n",
        "```\n"
      ],
      "metadata": {
        "id": "xQgAHgHJ9Tkl"
      }
    }
  ]
}