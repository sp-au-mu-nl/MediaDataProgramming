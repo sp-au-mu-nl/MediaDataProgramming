{
  "nbformat": 4,
  "nbformat_minor": 0,
  "metadata": {
    "colab": {
      "provenance": [],
      "authorship_tag": "ABX9TyPruc4TYqMkE56J8dPeYaGy",
      "include_colab_link": true
    },
    "kernelspec": {
      "name": "python3",
      "display_name": "Python 3"
    },
    "language_info": {
      "name": "python"
    }
  },
  "cells": [
    {
      "cell_type": "markdown",
      "metadata": {
        "id": "view-in-github",
        "colab_type": "text"
      },
      "source": [
        "<a href=\"https://colab.research.google.com/github/sp-au-mu-nl/MediaDataProgramming/blob/main/intro_numpy/notebook/intro_numpy_03.ipynb\" target=\"_parent\"><img src=\"https://colab.research.google.com/assets/colab-badge.svg\" alt=\"Open In Colab\"/></a>"
      ]
    },
    {
      "cell_type": "markdown",
      "source": [
        "# 変数の保存と読み込み"
      ],
      "metadata": {
        "id": "qqdh_2jxZviY"
      }
    },
    {
      "cell_type": "code",
      "execution_count": null,
      "metadata": {
        "id": "wu2dLF8fhvBp"
      },
      "outputs": [],
      "source": [
        "a = 1\n",
        "b = 2\n",
        "c = 3"
      ]
    },
    {
      "cell_type": "markdown",
      "source": [
        "全部の変数をファイルに保存するには、パッケージ dill が便利です。\n",
        "\n",
        "dill.dump_session() で全ての変数をファイルに保存できます。"
      ],
      "metadata": {
        "id": "Y1ysh8q7kCbf"
      }
    },
    {
      "cell_type": "code",
      "source": [
        "import dill"
      ],
      "metadata": {
        "id": "Uk17TlfZlClE"
      },
      "execution_count": null,
      "outputs": []
    },
    {
      "cell_type": "code",
      "source": [
        "dill.dump_session('datafile.pkl')"
      ],
      "metadata": {
        "id": "GuRvVP23lHsq"
      },
      "execution_count": null,
      "outputs": []
    },
    {
      "cell_type": "markdown",
      "source": [
        "%reset とすると、すべての変数が削除されます。"
      ],
      "metadata": {
        "id": "qnLlvOfQn7Zg"
      }
    },
    {
      "cell_type": "code",
      "source": [
        "%reset"
      ],
      "metadata": {
        "colab": {
          "base_uri": "https://localhost:8080/"
        },
        "id": "d3iTOiFWm82V",
        "outputId": "2482b371-0b1b-4235-cc22-62a054f2605a"
      },
      "execution_count": null,
      "outputs": [
        {
          "name": "stdout",
          "output_type": "stream",
          "text": [
            "Once deleted, variables cannot be recovered. Proceed (y/[n])? y\n"
          ]
        }
      ]
    },
    {
      "cell_type": "markdown",
      "source": [
        "load_session で、ファイルから変数を読み込むことができます。"
      ],
      "metadata": {
        "id": "BdZS8eJSoCGJ"
      }
    },
    {
      "cell_type": "code",
      "source": [
        "import dill\n",
        "dill.load_session('datafile.pkl')"
      ],
      "metadata": {
        "id": "AOZ9CRxFnWMt"
      },
      "execution_count": null,
      "outputs": []
    },
    {
      "cell_type": "markdown",
      "source": [
        "変数を確認してみましょう。"
      ],
      "metadata": {
        "id": "7qOEJyjBoLor"
      }
    },
    {
      "cell_type": "markdown",
      "source": [
        "一つの変数だけを保存するときには、pickle が便利です。\n"
      ],
      "metadata": {
        "id": "uxzILcseqQCe"
      }
    },
    {
      "cell_type": "code",
      "source": [
        "import pickle\n",
        "\n",
        "with open('a.pkl', 'wb') as f:\n",
        "  pickle.dump(a, f)"
      ],
      "metadata": {
        "id": "GTDEDnv5o_oP"
      },
      "execution_count": null,
      "outputs": []
    },
    {
      "cell_type": "code",
      "source": [
        "del a"
      ],
      "metadata": {
        "id": "CJwIcvdiqz9U"
      },
      "execution_count": null,
      "outputs": []
    },
    {
      "cell_type": "code",
      "source": [
        "with open('a.pkl', 'rb') as f:\n",
        "  a = pickle.load(f)"
      ],
      "metadata": {
        "id": "pmifCHBpq2dz"
      },
      "execution_count": null,
      "outputs": []
    },
    {
      "cell_type": "code",
      "source": [
        "a"
      ],
      "metadata": {
        "id": "TCoPW7OGrbfX",
        "outputId": "27b8417a-6a11-48bb-ebb1-531b41981c8b",
        "colab": {
          "base_uri": "https://localhost:8080/"
        }
      },
      "execution_count": null,
      "outputs": [
        {
          "output_type": "execute_result",
          "data": {
            "text/plain": [
              "1"
            ]
          },
          "metadata": {},
          "execution_count": 10
        }
      ]
    }
  ]
}