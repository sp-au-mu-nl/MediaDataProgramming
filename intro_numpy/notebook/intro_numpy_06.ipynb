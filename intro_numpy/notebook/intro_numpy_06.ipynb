{
  "nbformat": 4,
  "nbformat_minor": 0,
  "metadata": {
    "colab": {
      "provenance": [],
      "authorship_tag": "ABX9TyMpKK5VBkYcdsZ6QZKY6x2V",
      "include_colab_link": true
    },
    "kernelspec": {
      "name": "python3",
      "display_name": "Python 3"
    },
    "language_info": {
      "name": "python"
    }
  },
  "cells": [
    {
      "cell_type": "markdown",
      "metadata": {
        "id": "view-in-github",
        "colab_type": "text"
      },
      "source": [
        "<a href=\"https://colab.research.google.com/github/sp-au-mu-nl/MediaDataProgramming/blob/main/intro_numpy/notebook/intro_numpy_06.ipynb\" target=\"_parent\"><img src=\"https://colab.research.google.com/assets/colab-badge.svg\" alt=\"Open In Colab\"/></a>"
      ]
    },
    {
      "cell_type": "markdown",
      "source": [
        "# 等間隔のベクトルの作成"
      ],
      "metadata": {
        "id": "_83jN9qyaiuS"
      }
    },
    {
      "cell_type": "code",
      "source": [
        "import numpy as np"
      ],
      "metadata": {
        "id": "pUFI74ZZnzKL"
      },
      "execution_count": null,
      "outputs": []
    },
    {
      "cell_type": "markdown",
      "source": [
        "以下のベクトルのように、等間隔の数値を含むベクトルを作成することはよくあります。"
      ],
      "metadata": {
        "id": "156ki-4fnklt"
      }
    },
    {
      "cell_type": "code",
      "execution_count": null,
      "metadata": {
        "colab": {
          "base_uri": "https://localhost:8080/"
        },
        "id": "lnhkEfL1ndU9",
        "outputId": "318a211a-4d41-426f-8d56-b930d411003c"
      },
      "outputs": [
        {
          "output_type": "execute_result",
          "data": {
            "text/plain": [
              "array([5, 6, 7, 8])"
            ]
          },
          "metadata": {},
          "execution_count": 2
        }
      ],
      "source": [
        "y = np.array([5, 6, 7, 8])\n",
        "y"
      ]
    },
    {
      "cell_type": "markdown",
      "source": [
        "値 1,2,3 をこの順序で含む x というベクトルを作成しましょう。"
      ],
      "metadata": {
        "id": "9h39Rmdnn20G"
      }
    },
    {
      "cell_type": "code",
      "source": [
        "\n"
      ],
      "metadata": {
        "colab": {
          "base_uri": "https://localhost:8080/"
        },
        "id": "hS-lV0FHnwgH",
        "outputId": "4ed3965d-4083-4faa-c1bd-2380224765ee"
      },
      "execution_count": null,
      "outputs": [
        {
          "output_type": "execute_result",
          "data": {
            "text/plain": [
              "array([1, 2, 3])"
            ]
          },
          "metadata": {},
          "execution_count": 3
        }
      ]
    },
    {
      "cell_type": "markdown",
      "source": [
        "長いベクトルの場合、数値を個々に入力することは現実的ではありません。等間隔のベクトルを作成するための簡潔な代替方法は、np.arange 関数を使用して開始点と「終了点の次の値」のみを指定することです。"
      ],
      "metadata": {
        "id": "ZODydT7xoEo_"
      }
    },
    {
      "cell_type": "code",
      "source": [
        "y = np.arange(5,9)\n",
        "y"
      ],
      "metadata": {
        "colab": {
          "base_uri": "https://localhost:8080/"
        },
        "id": "uemiDAsqoOdS",
        "outputId": "4dff3c63-0e79-4434-b334-56e5b6408247"
      },
      "execution_count": null,
      "outputs": [
        {
          "output_type": "execute_result",
          "data": {
            "text/plain": [
              "array([5, 6, 7, 8])"
            ]
          },
          "metadata": {},
          "execution_count": 4
        }
      ]
    },
    {
      "cell_type": "markdown",
      "source": [
        "行ベクトルを作成するには、reshape メソッドを使うのが便利です。"
      ],
      "metadata": {
        "id": "TKEP1-ZHpkIq"
      }
    },
    {
      "cell_type": "code",
      "source": [
        "print(y.shape)\n",
        "y = y.reshape(1,-1)\n",
        "print(y.shape)\n",
        "y"
      ],
      "metadata": {
        "colab": {
          "base_uri": "https://localhost:8080/"
        },
        "id": "fsSNoOr5pinx",
        "outputId": "8af15e7f-5e24-491a-f9cd-102368463cb7"
      },
      "execution_count": null,
      "outputs": [
        {
          "output_type": "stream",
          "name": "stdout",
          "text": [
            "(4,)\n",
            "(1, 4)\n"
          ]
        },
        {
          "output_type": "execute_result",
          "data": {
            "text/plain": [
              "array([[5, 6, 7, 8]])"
            ]
          },
          "metadata": {},
          "execution_count": 5
        }
      ]
    },
    {
      "cell_type": "markdown",
      "source": [
        "reshape は引数で、サイズを指定します。(x,y) で x 行 y 列の行列を生成します。-1 を指定すると自動で計算されます。\n",
        "\n",
        "上記の y を列ベクトルにしてみましょう。"
      ],
      "metadata": {
        "id": "tLpStneAq7DE"
      }
    },
    {
      "cell_type": "code",
      "source": [
        "\n"
      ],
      "metadata": {
        "colab": {
          "base_uri": "https://localhost:8080/"
        },
        "id": "8BdDwun7q6hY",
        "outputId": "1f24e002-833b-4421-c6bb-69bc8169e44a"
      },
      "execution_count": null,
      "outputs": [
        {
          "output_type": "execute_result",
          "data": {
            "text/plain": [
              "array([[5],\n",
              "       [6],\n",
              "       [7],\n",
              "       [8]])"
            ]
          },
          "metadata": {},
          "execution_count": 6
        }
      ]
    },
    {
      "cell_type": "markdown",
      "source": [
        "値 1,2,3,4 を含む x という行ベクトルを作成しましょう。"
      ],
      "metadata": {
        "id": "EXq7ZhYKorDG"
      }
    },
    {
      "cell_type": "code",
      "source": [
        "\n",
        "\n"
      ],
      "metadata": {
        "colab": {
          "base_uri": "https://localhost:8080/"
        },
        "id": "Ahlx2cfYo2vr",
        "outputId": "aa2e657b-58db-4b15-a40d-74947d1d891e"
      },
      "execution_count": null,
      "outputs": [
        {
          "output_type": "execute_result",
          "data": {
            "text/plain": [
              "array([[1, 2, 3, 4]])"
            ]
          },
          "metadata": {},
          "execution_count": 7
        }
      ]
    },
    {
      "cell_type": "markdown",
      "source": [
        "arange では、指定しないと間隔は 1 になりますが、以下のように間隔を指定できます。"
      ],
      "metadata": {
        "id": "NbqG3K4IqNqS"
      }
    },
    {
      "cell_type": "code",
      "source": [
        "x = np.arange(20,26+1,2)\n",
        "x"
      ],
      "metadata": {
        "colab": {
          "base_uri": "https://localhost:8080/"
        },
        "id": "nOH23nldqa0e",
        "outputId": "35240632-64fe-40ff-c86a-6809f08db042"
      },
      "execution_count": null,
      "outputs": [
        {
          "output_type": "execute_result",
          "data": {
            "text/plain": [
              "array([20, 22, 24, 26])"
            ]
          },
          "metadata": {},
          "execution_count": 8
        }
      ]
    },
    {
      "cell_type": "markdown",
      "source": [
        "1 で始まり、5 で終わる、各要素の間隔が 0.5 の x という行ベクトルを作成しましょう。"
      ],
      "metadata": {
        "id": "_SqqaeKfqnPV"
      }
    },
    {
      "cell_type": "code",
      "source": [
        "\n"
      ],
      "metadata": {
        "colab": {
          "base_uri": "https://localhost:8080/"
        },
        "id": "wlWJ1rKxqmnY",
        "outputId": "33940f6d-d899-400d-9a9e-80c1707d9cdd"
      },
      "execution_count": null,
      "outputs": [
        {
          "output_type": "execute_result",
          "data": {
            "text/plain": [
              "array([[1. , 1.5, 2. , 2.5, 3. , 3.5, 4. , 4.5, 5. ]])"
            ]
          },
          "metadata": {},
          "execution_count": 9
        }
      ]
    },
    {
      "cell_type": "markdown",
      "source": [
        "３で始まり、13 で終わる、各要素の間隔が 2 の x という行ベクトルを作成しましょう。"
      ],
      "metadata": {
        "id": "btySyudIrYvX"
      }
    },
    {
      "cell_type": "code",
      "source": [
        "\n"
      ],
      "metadata": {
        "colab": {
          "base_uri": "https://localhost:8080/"
        },
        "id": "tF_ensCkriX-",
        "outputId": "a90b1d71-f79a-483d-f444-a850cddb01f9"
      },
      "execution_count": null,
      "outputs": [
        {
          "output_type": "execute_result",
          "data": {
            "text/plain": [
              "array([[ 3,  5,  7,  9, 11, 13]])"
            ]
          },
          "metadata": {},
          "execution_count": 10
        }
      ]
    },
    {
      "cell_type": "markdown",
      "source": [
        "ベクトルに含める要素数がわかっていて、等間隔のベクトルを作成するときには、np.linspace を用います。"
      ],
      "metadata": {
        "id": "unrezc83sC7y"
      }
    },
    {
      "cell_type": "code",
      "source": [
        "x = np.linspace(0,1,5)\n",
        "x"
      ],
      "metadata": {
        "colab": {
          "base_uri": "https://localhost:8080/"
        },
        "id": "v6ZvC9GpsRmr",
        "outputId": "23bf62f3-e56e-4c52-e84f-6b81e2e2c5a8"
      },
      "execution_count": null,
      "outputs": [
        {
          "output_type": "execute_result",
          "data": {
            "text/plain": [
              "array([0.  , 0.25, 0.5 , 0.75, 1.  ])"
            ]
          },
          "metadata": {},
          "execution_count": 11
        }
      ]
    },
    {
      "cell_type": "markdown",
      "source": [
        "1 で始まり 10 で終わる、5 つの要素を含む x という行ベクトルを作成しましょう。"
      ],
      "metadata": {
        "id": "0WRNcNoUsksp"
      }
    },
    {
      "cell_type": "code",
      "source": [
        "\n"
      ],
      "metadata": {
        "colab": {
          "base_uri": "https://localhost:8080/"
        },
        "id": "5zIiIId5ss9v",
        "outputId": "a15e8e04-1490-4c73-b87d-59074f84da54"
      },
      "execution_count": null,
      "outputs": [
        {
          "output_type": "execute_result",
          "data": {
            "text/plain": [
              "array([[ 1.  ,  3.25,  5.5 ,  7.75, 10.  ]])"
            ]
          },
          "metadata": {},
          "execution_count": 12
        }
      ]
    },
    {
      "cell_type": "markdown",
      "source": [
        "行ベクトルから列ベクトルを作るときには、転置属性を用いることもできます。"
      ],
      "metadata": {
        "id": "oSRBLqsBtpAR"
      }
    },
    {
      "cell_type": "code",
      "source": [
        "x = np.arange(1,4).reshape(1,-1)\n",
        "x = x.T\n",
        "x"
      ],
      "metadata": {
        "colab": {
          "base_uri": "https://localhost:8080/"
        },
        "id": "5Zb15Mbpt7ex",
        "outputId": "41b85ef8-9462-4b43-f607-2c8addb278a2"
      },
      "execution_count": null,
      "outputs": [
        {
          "output_type": "execute_result",
          "data": {
            "text/plain": [
              "array([[1],\n",
              "       [2],\n",
              "       [3]])"
            ]
          },
          "metadata": {},
          "execution_count": 13
        }
      ]
    },
    {
      "cell_type": "markdown",
      "source": [
        "ベクトルは転置でも shape が変わらないことに留意してください。"
      ],
      "metadata": {
        "id": "dLyohVfTuVJB"
      }
    },
    {
      "cell_type": "code",
      "source": [
        "x = np.arange(1,4)\n",
        "x.T"
      ],
      "metadata": {
        "colab": {
          "base_uri": "https://localhost:8080/"
        },
        "id": "BwOZcau0uN8q",
        "outputId": "fe347198-a048-46a1-a806-48bf87b38a5c"
      },
      "execution_count": null,
      "outputs": [
        {
          "output_type": "execute_result",
          "data": {
            "text/plain": [
              "array([1, 2, 3])"
            ]
          },
          "metadata": {},
          "execution_count": 14
        }
      ]
    },
    {
      "cell_type": "markdown",
      "source": [
        "単一のコマンドで、行ベクトルや列ベクトルを作成できます。"
      ],
      "metadata": {
        "id": "_E8NlwTSuxpC"
      }
    },
    {
      "cell_type": "code",
      "source": [
        " x = np.arange(1,5+2,2).reshape(1,-1)\n",
        " x"
      ],
      "metadata": {
        "colab": {
          "base_uri": "https://localhost:8080/"
        },
        "id": "lzxR7vNjvB54",
        "outputId": "b563365a-e153-48af-9342-ff10c40a03cf"
      },
      "execution_count": null,
      "outputs": [
        {
          "output_type": "execute_result",
          "data": {
            "text/plain": [
              "array([[1, 3, 5]])"
            ]
          },
          "metadata": {},
          "execution_count": 15
        }
      ]
    },
    {
      "cell_type": "markdown",
      "source": [
        "単一のコマンドで 5 で始まり 9 で終わる、間隔 2 で配置された要素を持つ x という列ベクトルを作成しましょう。"
      ],
      "metadata": {
        "id": "o0KHN46DvXpM"
      }
    },
    {
      "cell_type": "code",
      "source": [
        "\n"
      ],
      "metadata": {
        "colab": {
          "base_uri": "https://localhost:8080/"
        },
        "id": "cdTTdGZcvkSg",
        "outputId": "d312ddb1-2301-4e40-9444-c26e1a3b1435"
      },
      "execution_count": null,
      "outputs": [
        {
          "output_type": "execute_result",
          "data": {
            "text/plain": [
              "array([[5],\n",
              "       [7],\n",
              "       [9]])"
            ]
          },
          "metadata": {},
          "execution_count": 16
        }
      ]
    },
    {
      "cell_type": "markdown",
      "source": [
        "1 から $2\\pi$ までの 100 個の要素を持つ等間隔ベクトルを作成してみましょう。"
      ],
      "metadata": {
        "id": "aUfFRIWyv9gF"
      }
    },
    {
      "cell_type": "code",
      "source": [],
      "metadata": {
        "colab": {
          "base_uri": "https://localhost:8080/"
        },
        "id": "X_Ex0_nfwFho",
        "outputId": "7e373e47-a798-4160-b419-cdda3ea5248d"
      },
      "execution_count": null,
      "outputs": [
        {
          "output_type": "execute_result",
          "data": {
            "text/plain": [
              "array([1.        , 1.05336551, 1.10673102, 1.16009652, 1.21346203,\n",
              "       1.26682754, 1.32019305, 1.37355856, 1.42692407, 1.48028957,\n",
              "       1.53365508, 1.58702059, 1.6403861 , 1.69375161, 1.74711711,\n",
              "       1.80048262, 1.85384813, 1.90721364, 1.96057915, 2.01394465,\n",
              "       2.06731016, 2.12067567, 2.17404118, 2.22740669, 2.2807722 ,\n",
              "       2.3341377 , 2.38750321, 2.44086872, 2.49423423, 2.54759974,\n",
              "       2.60096524, 2.65433075, 2.70769626, 2.76106177, 2.81442728,\n",
              "       2.86779279, 2.92115829, 2.9745238 , 3.02788931, 3.08125482,\n",
              "       3.13462033, 3.18798583, 3.24135134, 3.29471685, 3.34808236,\n",
              "       3.40144787, 3.45481338, 3.50817888, 3.56154439, 3.6149099 ,\n",
              "       3.66827541, 3.72164092, 3.77500642, 3.82837193, 3.88173744,\n",
              "       3.93510295, 3.98846846, 4.04183396, 4.09519947, 4.14856498,\n",
              "       4.20193049, 4.255296  , 4.30866151, 4.36202701, 4.41539252,\n",
              "       4.46875803, 4.52212354, 4.57548905, 4.62885455, 4.68222006,\n",
              "       4.73558557, 4.78895108, 4.84231659, 4.8956821 , 4.9490476 ,\n",
              "       5.00241311, 5.05577862, 5.10914413, 5.16250964, 5.21587514,\n",
              "       5.26924065, 5.32260616, 5.37597167, 5.42933718, 5.48270268,\n",
              "       5.53606819, 5.5894337 , 5.64279921, 5.69616472, 5.74953023,\n",
              "       5.80289573, 5.85626124, 5.90962675, 5.96299226, 6.01635777,\n",
              "       6.06972327, 6.12308878, 6.17645429, 6.2298198 , 6.28318531])"
            ]
          },
          "metadata": {},
          "execution_count": 17
        }
      ]
    }
  ]
}