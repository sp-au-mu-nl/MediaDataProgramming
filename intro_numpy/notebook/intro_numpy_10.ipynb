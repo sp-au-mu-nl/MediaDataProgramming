{
  "nbformat": 4,
  "nbformat_minor": 0,
  "metadata": {
    "colab": {
      "provenance": [],
      "authorship_tag": "ABX9TyMhnMvAbMgQwsFGHLZnQYBS",
      "include_colab_link": true
    },
    "kernelspec": {
      "name": "python3",
      "display_name": "Python 3"
    },
    "language_info": {
      "name": "python"
    }
  },
  "cells": [
    {
      "cell_type": "markdown",
      "metadata": {
        "id": "view-in-github",
        "colab_type": "text"
      },
      "source": [
        "<a href=\"https://colab.research.google.com/github/sp-au-mu-nl/MediaDataProgramming/blob/main/intro_numpy/notebook/intro_numpy_10.ipynb\" target=\"_parent\"><img src=\"https://colab.research.google.com/assets/colab-badge.svg\" alt=\"Open In Colab\"/></a>"
      ]
    },
    {
      "cell_type": "markdown",
      "source": [
        "# 配列内の値の変更"
      ],
      "metadata": {
        "id": "Gfv6ofuAbvil"
      }
    },
    {
      "cell_type": "code",
      "source": [
        "import numpy as np\n",
        "\n",
        "data = np.array([[3, 0.53, 4.0753, np.nan],\n",
        "              [18, 1.78, 6.6678, 2.1328],\n",
        "              [19, 0.86, 1.5177, 3.6852],\n",
        "              [20, 1.6, 3.6375, 8.5389],\n",
        "              [21, 3, 4.7243, 10.157],\n",
        "              [23, 6.11, 9.0698, 2.8739],\n",
        "              [38, 2.54, 5.3002, 4.4508]])"
      ],
      "metadata": {
        "id": "lm4E7kHz1QD1"
      },
      "execution_count": null,
      "outputs": []
    },
    {
      "cell_type": "markdown",
      "source": [
        "コロン(:) を使用するとデータの列全体を抽出できます。\n",
        "\n",
        "data の最後の 列を含む v2 という変数を作成しましょう。"
      ],
      "metadata": {
        "id": "Yaf9lns31FyN"
      }
    },
    {
      "cell_type": "code",
      "execution_count": null,
      "metadata": {
        "colab": {
          "base_uri": "https://localhost:8080/"
        },
        "id": "KRkFuIrM0zRM",
        "outputId": "f5215bae-8638-471f-a13b-668d05100309"
      },
      "outputs": [
        {
          "output_type": "execute_result",
          "data": {
            "text/plain": [
              "array([    nan,  2.1328,  3.6852,  8.5389, 10.157 ,  2.8739,  4.4508])"
            ]
          },
          "metadata": {},
          "execution_count": 2
        }
      ],
      "source": [
        "\n"
      ]
    },
    {
      "cell_type": "markdown",
      "source": [
        "変数の要素は、インデクス付けを代入と組み合わせて変更できます。\n",
        "```\n",
        "A[1] = 11\n",
        "```\n",
        "v2 の最初の要素を nan から 0.5 に変更しましょう。"
      ],
      "metadata": {
        "id": "xQgAHgHJ9Tkl"
      }
    },
    {
      "cell_type": "code",
      "source": [
        "\n"
      ],
      "metadata": {
        "colab": {
          "base_uri": "https://localhost:8080/"
        },
        "id": "XziMwHrs9Xmw",
        "outputId": "6d24779a-a376-4315-9712-8acf3ed846db"
      },
      "execution_count": null,
      "outputs": [
        {
          "output_type": "execute_result",
          "data": {
            "text/plain": [
              "array([ 0.5   ,  2.1328,  3.6852,  8.5389, 10.157 ,  2.8739,  4.4508])"
            ]
          },
          "metadata": {},
          "execution_count": 3
        }
      ]
    },
    {
      "cell_type": "markdown",
      "source": [
        "python では、このとき v2 を代入して作成した元の data の要素の値も変わっていることに注意してください。"
      ],
      "metadata": {
        "id": "AEBfB0ri1d2J"
      }
    },
    {
      "cell_type": "code",
      "source": [
        "data[:,-1]"
      ],
      "metadata": {
        "colab": {
          "base_uri": "https://localhost:8080/"
        },
        "id": "QD6C6GNx1nNa",
        "outputId": "8fd02453-bf1d-4448-ecac-527902a44b0b"
      },
      "execution_count": null,
      "outputs": [
        {
          "output_type": "execute_result",
          "data": {
            "text/plain": [
              "array([ 0.5   ,  2.1328,  3.6852,  8.5389, 10.157 ,  2.8739,  4.4508])"
            ]
          },
          "metadata": {},
          "execution_count": 4
        }
      ]
    },
    {
      "cell_type": "markdown",
      "source": [
        "元の値を変えたくないときは、copy 関数を使わなければなりません。"
      ],
      "metadata": {
        "id": "alO91fsO9zxi"
      }
    },
    {
      "cell_type": "code",
      "source": [
        "v3 = np.copy(data[:,-1])\n",
        "print(v3[0])\n",
        "v3[0] = 1\n",
        "print(v3[0])\n",
        "data[0,-1]"
      ],
      "metadata": {
        "colab": {
          "base_uri": "https://localhost:8080/"
        },
        "id": "2Fxn54ZW2O7W",
        "outputId": "674248fe-8c5c-4d62-8780-9582ab6635e3"
      },
      "execution_count": null,
      "outputs": [
        {
          "output_type": "stream",
          "name": "stdout",
          "text": [
            "0.5\n",
            "1.0\n"
          ]
        },
        {
          "output_type": "execute_result",
          "data": {
            "text/plain": [
              "np.float64(0.5)"
            ]
          },
          "metadata": {},
          "execution_count": 5
        }
      ]
    },
    {
      "cell_type": "markdown",
      "source": [
        "data の最終行の最終列の要素の値を 5 に変更しましょう。"
      ],
      "metadata": {
        "id": "273u1oW321p8"
      }
    },
    {
      "cell_type": "code",
      "source": [
        "\n"
      ],
      "metadata": {
        "colab": {
          "base_uri": "https://localhost:8080/"
        },
        "id": "35RloPNHF4Bw",
        "outputId": "936471a0-c1bb-4fb2-9d44-78baa75ac893"
      },
      "execution_count": null,
      "outputs": [
        {
          "output_type": "execute_result",
          "data": {
            "text/plain": [
              "array([[ 3.    ,  0.53  ,  4.0753,  0.5   ],\n",
              "       [18.    ,  1.78  ,  6.6678,  2.1328],\n",
              "       [19.    ,  0.86  ,  1.5177,  3.6852],\n",
              "       [20.    ,  1.6   ,  3.6375,  8.5389],\n",
              "       [21.    ,  3.    ,  4.7243, 10.157 ],\n",
              "       [23.    ,  6.11  ,  9.0698,  2.8739],\n",
              "       [38.    ,  2.54  ,  5.3002,  5.    ]])"
            ]
          },
          "metadata": {},
          "execution_count": 6
        }
      ]
    },
    {
      "cell_type": "markdown",
      "source": [
        "インデクス付けと代入を組み合わせると、配列の値を他の要素と等しくなるように変更できます。たとえば、次のコードは x[0] の値を x[1] に変更します。\n",
        "\n",
        "```\n",
        "x[0] = x[1]\n",
        "```\n",
        "data の 1 列目を data の 2列目の値に変更してみましょう。"
      ],
      "metadata": {
        "id": "8HemSpqcGLkq"
      }
    },
    {
      "cell_type": "code",
      "source": [
        "\n"
      ],
      "metadata": {
        "colab": {
          "base_uri": "https://localhost:8080/"
        },
        "id": "-tbv0yppFL5a",
        "outputId": "a797fc47-1fbe-4da2-ff97-292b0c26f13f"
      },
      "execution_count": null,
      "outputs": [
        {
          "output_type": "execute_result",
          "data": {
            "text/plain": [
              "array([[ 0.53  ,  0.53  ,  4.0753,  0.5   ],\n",
              "       [ 1.78  ,  1.78  ,  6.6678,  2.1328],\n",
              "       [ 0.86  ,  0.86  ,  1.5177,  3.6852],\n",
              "       [ 1.6   ,  1.6   ,  3.6375,  8.5389],\n",
              "       [ 3.    ,  3.    ,  4.7243, 10.157 ],\n",
              "       [ 6.11  ,  6.11  ,  9.0698,  2.8739],\n",
              "       [ 2.54  ,  2.54  ,  5.3002,  5.    ]])"
            ]
          },
          "metadata": {},
          "execution_count": 7
        }
      ]
    }
  ]
}