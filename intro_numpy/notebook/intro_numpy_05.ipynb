{
  "nbformat": 4,
  "nbformat_minor": 0,
  "metadata": {
    "colab": {
      "provenance": [],
      "authorship_tag": "ABX9TyPPdeVeMtUSqW6g8mFlwhZU",
      "include_colab_link": true
    },
    "kernelspec": {
      "name": "python3",
      "display_name": "Python 3"
    },
    "language_info": {
      "name": "python"
    }
  },
  "cells": [
    {
      "cell_type": "markdown",
      "metadata": {
        "id": "view-in-github",
        "colab_type": "text"
      },
      "source": [
        "<a href=\"https://colab.research.google.com/github/sp-au-mu-nl/MediaDataProgramming/blob/main/intro_numpy/notebook/intro_numpy_05.ipynb\" target=\"_parent\"><img src=\"https://colab.research.google.com/assets/colab-badge.svg\" alt=\"Open In Colab\"/></a>"
      ]
    },
    {
      "cell_type": "markdown",
      "source": [
        "# 配列の手動入力\n",
        "\n",
        "単一の数値はスカラーと呼ばれます。\n",
        "4 の値をもつ x という変数を作成しましょう。"
      ],
      "metadata": {
        "id": "nCLfnLSl587J"
      }
    },
    {
      "cell_type": "code",
      "execution_count": null,
      "metadata": {
        "id": "Dn-Utqyp49yl"
      },
      "outputs": [],
      "source": [
        "x = 4"
      ]
    },
    {
      "cell_type": "code",
      "source": [
        "import numpy as np"
      ],
      "metadata": {
        "id": "xXAkN26J7Mdn"
      },
      "execution_count": null,
      "outputs": []
    },
    {
      "cell_type": "markdown",
      "source": [
        "np.array を使うと、複数の要素を持つ配列(ベクトル)を作成できます。\n",
        "\n"
      ],
      "metadata": {
        "id": "gfpDOWbh6oeU"
      }
    },
    {
      "cell_type": "code",
      "source": [
        "x = np.array([3,5])\n",
        "x"
      ],
      "metadata": {
        "colab": {
          "base_uri": "https://localhost:8080/"
        },
        "id": "C6PG_5bS7CAo",
        "outputId": "587d910f-eec1-49df-ba6c-8b4da654a961"
      },
      "execution_count": null,
      "outputs": [
        {
          "output_type": "execute_result",
          "data": {
            "text/plain": [
              "array([3, 5])"
            ]
          },
          "metadata": {},
          "execution_count": 3
        }
      ]
    },
    {
      "cell_type": "markdown",
      "source": [
        "7, 9 の二つの値を持つ x という配列を作成しましょう。"
      ],
      "metadata": {
        "id": "Mrhesz_Y7CrU"
      }
    },
    {
      "cell_type": "code",
      "source": [],
      "metadata": {
        "id": "V7UO-1Vy60Wx"
      },
      "execution_count": null,
      "outputs": []
    },
    {
      "cell_type": "markdown",
      "source": [
        "numpy で行ベクトルを作るときには、次のようにしましょう。"
      ],
      "metadata": {
        "id": "dw5IEg_L7eO_"
      }
    },
    {
      "cell_type": "code",
      "source": [
        "x = np.array([[7,9]])\n",
        "x"
      ],
      "metadata": {
        "colab": {
          "base_uri": "https://localhost:8080/"
        },
        "id": "m8Xs7C9P8LZp",
        "outputId": "c9f465e9-7605-4598-a4eb-7cca63afde7a"
      },
      "execution_count": null,
      "outputs": [
        {
          "output_type": "execute_result",
          "data": {
            "text/plain": [
              "array([[7, 9]])"
            ]
          },
          "metadata": {},
          "execution_count": 5
        }
      ]
    },
    {
      "cell_type": "markdown",
      "source": [
        "shape という属性を見ると、どのようなベクトルなのかわかります。"
      ],
      "metadata": {
        "id": "14T9gKYt8XXg"
      }
    },
    {
      "cell_type": "code",
      "source": [
        "x.shape"
      ],
      "metadata": {
        "colab": {
          "base_uri": "https://localhost:8080/"
        },
        "id": "hNatrN928h9_",
        "outputId": "9f03f744-5996-4017-8df0-4e6a34ee05ce"
      },
      "execution_count": null,
      "outputs": [
        {
          "output_type": "execute_result",
          "data": {
            "text/plain": [
              "(1, 2)"
            ]
          },
          "metadata": {},
          "execution_count": 6
        }
      ]
    },
    {
      "cell_type": "markdown",
      "source": [
        "1行2列の行ベクトルだとわかります。"
      ],
      "metadata": {
        "id": "t0jb-KYH8knR"
      }
    },
    {
      "cell_type": "markdown",
      "source": [
        "一組の [] で行を表現し、行を , でつなぐと列ベクトルを表現できます。"
      ],
      "metadata": {
        "id": "Jen7jDYC8tLU"
      }
    },
    {
      "cell_type": "code",
      "source": [
        "x = np.array([[1],[3]])\n",
        "x"
      ],
      "metadata": {
        "colab": {
          "base_uri": "https://localhost:8080/"
        },
        "id": "R-cTiVLm7pt-",
        "outputId": "241efd8d-dfd8-487c-e1ea-ba8f7a7418fc"
      },
      "execution_count": null,
      "outputs": [
        {
          "output_type": "execute_result",
          "data": {
            "text/plain": [
              "array([[1],\n",
              "       [3]])"
            ]
          },
          "metadata": {},
          "execution_count": 7
        }
      ]
    },
    {
      "cell_type": "markdown",
      "source": [
        "単一の列に 7 と 9 の 2 つの要素を持つ、x という配列を作成しましょう。"
      ],
      "metadata": {
        "id": "4M5ZYowy9Fwx"
      }
    },
    {
      "cell_type": "code",
      "source": [],
      "metadata": {
        "id": "MCVwk4S_7wTg"
      },
      "execution_count": null,
      "outputs": []
    },
    {
      "cell_type": "markdown",
      "source": [
        "3, 10, 5 をこの順序で含む x という行ベクトルを作成しましょう。"
      ],
      "metadata": {
        "id": "_pZpcpdU9xl3"
      }
    },
    {
      "cell_type": "code",
      "source": [
        "\n"
      ],
      "metadata": {
        "colab": {
          "base_uri": "https://localhost:8080/"
        },
        "id": "PCuuy1we957V",
        "outputId": "dce92876-deff-4eff-9234-81f56057a79c"
      },
      "execution_count": null,
      "outputs": [
        {
          "output_type": "execute_result",
          "data": {
            "text/plain": [
              "array([[ 3, 10,  5]])"
            ]
          },
          "metadata": {},
          "execution_count": 9
        }
      ]
    },
    {
      "cell_type": "markdown",
      "source": [
        "8,2,-4 をこの順序で含む x という列ベクトルを作成しましょう。"
      ],
      "metadata": {
        "id": "7lXfidbq-Jto"
      }
    },
    {
      "cell_type": "code",
      "source": [],
      "metadata": {
        "id": "jR7gkQzz-PA3"
      },
      "execution_count": null,
      "outputs": []
    },
    {
      "cell_type": "markdown",
      "source": [
        "複数の列を持つ行を , で結合すると、複数の行と列をもつ配列である行列を作成できます。行は全て同じ列の数にしないといけません。"
      ],
      "metadata": {
        "id": "1yZdAB-U-dkp"
      }
    },
    {
      "cell_type": "code",
      "source": [
        "x = np.array([[3,4,5],\n",
        " [6,7,8]])\n",
        "x"
      ],
      "metadata": {
        "colab": {
          "base_uri": "https://localhost:8080/"
        },
        "id": "L9OxfcyW-207",
        "outputId": "6310a4b0-15e6-427f-9d92-ae495af2f36e"
      },
      "execution_count": null,
      "outputs": [
        {
          "output_type": "execute_result",
          "data": {
            "text/plain": [
              "array([[3, 4, 5],\n",
              "       [6, 7, 8]])"
            ]
          },
          "metadata": {},
          "execution_count": 11
        }
      ]
    },
    {
      "cell_type": "markdown",
      "source": [
        "次の値を持つ x という行列を作成しましょう\n",
        "$$\\begin{matrix}\n",
        "5 & 6 & 7 \\\\\n",
        "8 & 9 & 10 \\\\\n",
        "\\end{matrix}\n",
        "$$"
      ],
      "metadata": {
        "id": "3hhEnW-s_PvR"
      }
    },
    {
      "cell_type": "code",
      "source": [
        "\n"
      ],
      "metadata": {
        "id": "QeEO3Wsa_wt8"
      },
      "execution_count": null,
      "outputs": []
    },
    {
      "cell_type": "markdown",
      "source": [
        "計算結果を使って、ベクトルや行列を作ることもできます。"
      ],
      "metadata": {
        "id": "NUpGFuhnAHPJ"
      }
    },
    {
      "cell_type": "code",
      "source": [
        "x = np.array([np.abs(-4), 4**2])\n",
        "x"
      ],
      "metadata": {
        "colab": {
          "base_uri": "https://localhost:8080/"
        },
        "id": "lXgwkfsiAGWb",
        "outputId": "b7f7e3fd-8cff-423d-a25f-c47ae007c34f"
      },
      "execution_count": null,
      "outputs": [
        {
          "output_type": "execute_result",
          "data": {
            "text/plain": [
              "array([ 4, 16])"
            ]
          },
          "metadata": {},
          "execution_count": 13
        }
      ]
    },
    {
      "cell_type": "markdown",
      "source": [
        "最初の要素として $\\sqrt{10}$ を 2 番目の要素として $\\pi^2$ を含む x というベクトルを作成しましょう。"
      ],
      "metadata": {
        "id": "AGKdwM4SAwZR"
      }
    },
    {
      "cell_type": "code",
      "source": [
        "\n"
      ],
      "metadata": {
        "colab": {
          "base_uri": "https://localhost:8080/"
        },
        "id": "7R_cur0RA_7K",
        "outputId": "3030ea7c-ef9e-4316-c250-45587a229c90"
      },
      "execution_count": null,
      "outputs": [
        {
          "output_type": "execute_result",
          "data": {
            "text/plain": [
              "array([3.16227766, 9.8696044 ])"
            ]
          },
          "metadata": {},
          "execution_count": 14
        }
      ]
    }
  ]
}