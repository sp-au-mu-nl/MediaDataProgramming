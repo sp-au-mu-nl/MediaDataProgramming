{
  "nbformat": 4,
  "nbformat_minor": 0,
  "metadata": {
    "colab": {
      "provenance": [],
      "authorship_tag": "ABX9TyP+B+Lsm2N4mEP/Lr5NOR2i",
      "include_colab_link": true
    },
    "kernelspec": {
      "name": "python3",
      "display_name": "Python 3"
    },
    "language_info": {
      "name": "python"
    }
  },
  "cells": [
    {
      "cell_type": "markdown",
      "metadata": {
        "id": "view-in-github",
        "colab_type": "text"
      },
      "source": [
        "<a href=\"https://colab.research.google.com/github/sp-au-mu-nl/MediaDataProgramming/blob/main/intro_numpy/intro_numpy_01.ipynb\" target=\"_parent\"><img src=\"https://colab.research.google.com/assets/colab-badge.svg\" alt=\"Open In Colab\"/></a>"
      ]
    },
    {
      "cell_type": "markdown",
      "source": [
        "# コマンドの入力\n",
        "\n",
        "スクリプトを実行してみましょう。\n",
        "$3\\times 5$ は\n",
        "```\n",
        "3*5\n",
        "```\n",
        "と入力して Enter キーを押せば実行できます。"
      ],
      "metadata": {
        "id": "8rNW6sOpVAgM"
      }
    },
    {
      "cell_type": "code",
      "execution_count": 1,
      "metadata": {
        "colab": {
          "base_uri": "https://localhost:8080/"
        },
        "id": "3drJaliRT78_",
        "outputId": "4b813583-e64b-46cc-a0fa-4ed3140b45a6"
      },
      "outputs": [
        {
          "output_type": "execute_result",
          "data": {
            "text/plain": [
              "15"
            ]
          },
          "metadata": {},
          "execution_count": 1
        }
      ],
      "source": [
        "3*5"
      ]
    },
    {
      "cell_type": "markdown",
      "source": [
        "代入先を指定しない限り、計算結果は _ (アンダースコア) という変数に代入されます。\n",
        "```\n",
        "print(_)\n",
        "```\n",
        "を実行してみましょう。"
      ],
      "metadata": {
        "id": "AuBWbBBrWhV1"
      }
    },
    {
      "cell_type": "code",
      "source": [
        "print(_)"
      ],
      "metadata": {
        "colab": {
          "base_uri": "https://localhost:8080/"
        },
        "id": "HjQtYlNDVudV",
        "outputId": "5b32549f-113f-4917-dec1-1db65b668018"
      },
      "execution_count": 2,
      "outputs": [
        {
          "output_type": "stream",
          "name": "stdout",
          "text": [
            "15\n"
          ]
        }
      ]
    },
    {
      "cell_type": "markdown",
      "source": [
        "$ 3\\times 5$ の結果を $m$ という変数に代入してみましょう。"
      ],
      "metadata": {
        "id": "6YsAXmqKWsON"
      }
    },
    {
      "cell_type": "code",
      "source": [
        "m = 3*5"
      ],
      "metadata": {
        "id": "zRBJZzkQWrOJ"
      },
      "execution_count": 3,
      "outputs": []
    },
    {
      "cell_type": "markdown",
      "source": [
        "python (numpy) では、$=$ は、代入演算子です。つまり、等号の右側の式が左側の変数に代入されるという意味です。\n",
        "\n",
        "$x = 3+4$ を入力すると、python では、まず $3+4$ を実行してから、結果を変数 $x$ に代入します。\n",
        "```\n",
        "m = m + 1\n",
        "```\n",
        "を実行したら $m$ はどのような値になるでしょうか? 確認してみましょう。\n"
      ],
      "metadata": {
        "id": "9DdrAO3sXFWc"
      }
    },
    {
      "cell_type": "code",
      "source": [
        "m = m + 1\n",
        "m"
      ],
      "metadata": {
        "colab": {
          "base_uri": "https://localhost:8080/"
        },
        "id": "Nv-pyU3iXAwL",
        "outputId": "8c5791a9-1586-47c2-8bb9-c161aa4bb4dd"
      },
      "execution_count": 4,
      "outputs": [
        {
          "output_type": "execute_result",
          "data": {
            "text/plain": [
              "16"
            ]
          },
          "metadata": {},
          "execution_count": 4
        }
      ]
    },
    {
      "cell_type": "markdown",
      "source": [
        "ウィンドウの左下の {} 変数というところをクリックすると、変数がすべて表示されていることがわかります。(_ は除く)\n",
        "\n",
        "値 $m/2$ を持つ $y$ という変数を作成します。"
      ],
      "metadata": {
        "id": "onhKHm5sYivL"
      }
    },
    {
      "cell_type": "code",
      "source": [
        "y = m/2\n",
        "y"
      ],
      "metadata": {
        "colab": {
          "base_uri": "https://localhost:8080/"
        },
        "id": "3sQuKed4Y8Zr",
        "outputId": "55c89159-e2a3-4256-cc12-e308769e052a"
      },
      "execution_count": 5,
      "outputs": [
        {
          "output_type": "execute_result",
          "data": {
            "text/plain": [
              "8.0"
            ]
          },
          "metadata": {},
          "execution_count": 5
        }
      ]
    },
    {
      "cell_type": "markdown",
      "source": [
        "google colab では、セルの最後の行の実行結果が表示されます。変数だけを入力すると、その値が表示されます。\n",
        "```\n",
        "k = 6\n",
        "m = 3*k\n",
        "```\n",
        "を実行してから、$y$ に変化があったかどうかを確かめてみてください。\n",
        "\n"
      ],
      "metadata": {
        "id": "0YHEfzleaUiN"
      }
    },
    {
      "cell_type": "code",
      "source": [
        "k = 6\n",
        "m = 3*k\n",
        "y"
      ],
      "metadata": {
        "colab": {
          "base_uri": "https://localhost:8080/"
        },
        "id": "bbiM2GlEaLf_",
        "outputId": "1feb71b9-717f-44ae-d7d4-351479aee865"
      },
      "execution_count": 6,
      "outputs": [
        {
          "output_type": "execute_result",
          "data": {
            "text/plain": [
              "8.0"
            ]
          },
          "metadata": {},
          "execution_count": 6
        }
      ]
    }
  ]
}