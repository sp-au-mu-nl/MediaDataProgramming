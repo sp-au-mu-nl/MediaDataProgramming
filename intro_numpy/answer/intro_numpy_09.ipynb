{
  "nbformat": 4,
  "nbformat_minor": 0,
  "metadata": {
    "colab": {
      "provenance": [],
      "authorship_tag": "ABX9TyNAbqjqzHD6Nv3iosu1y1Vy",
      "include_colab_link": true
    },
    "kernelspec": {
      "name": "python3",
      "display_name": "Python 3"
    },
    "language_info": {
      "name": "python"
    }
  },
  "cells": [
    {
      "cell_type": "markdown",
      "metadata": {
        "id": "view-in-github",
        "colab_type": "text"
      },
      "source": [
        "<a href=\"https://colab.research.google.com/github/sp-au-mu-nl/MediaDataProgramming/blob/main/intro_numpy/answer/intro_numpy_09.ipynb\" target=\"_parent\"><img src=\"https://colab.research.google.com/assets/colab-badge.svg\" alt=\"Open In Colab\"/></a>"
      ]
    },
    {
      "cell_type": "markdown",
      "source": [
        "# 複数の要素の抽出"
      ],
      "metadata": {
        "id": "CcU2v4KvbMSs"
      }
    },
    {
      "cell_type": "code",
      "source": [
        "import numpy as np\n",
        "\n",
        "data = np.array([[3, 0.53, 4.0753, np.nan],\n",
        "              [18, 1.78, 6.6678, 2.1328],\n",
        "              [19, 0.86, 1.5177, 3.6852],\n",
        "              [20, 1.6, 3.6375, 8.5389],\n",
        "              [21, 3, 4.7243, 10.157],\n",
        "              [23, 6.11, 9.0698, 2.8739],\n",
        "              [38, 2.54, 5.3002, 4.4508]])"
      ],
      "metadata": {
        "id": "lm4E7kHz1QD1"
      },
      "execution_count": 1,
      "outputs": []
    },
    {
      "cell_type": "markdown",
      "source": [
        "スライスでインデクスを指定できます。単独のコロン(:) は、その次元の全ての要素を指定します。\n",
        "次の構文\n",
        "```\n",
        "y = A[1,:]\n",
        "```\n",
        "は、A の 2行目の全ての要素を含むベクトルを作成します。\n",
        "\n",
        "data という行列の 2 列目を含む density という変数を作成しましょう。"
      ],
      "metadata": {
        "id": "Yaf9lns31FyN"
      }
    },
    {
      "cell_type": "code",
      "execution_count": 2,
      "metadata": {
        "colab": {
          "base_uri": "https://localhost:8080/"
        },
        "id": "KRkFuIrM0zRM",
        "outputId": "e68b2335-0d6f-497b-c1ed-d5f09da3c754"
      },
      "outputs": [
        {
          "output_type": "execute_result",
          "data": {
            "text/plain": [
              "array([0.53, 1.78, 0.86, 1.6 , 3.  , 6.11, 2.54])"
            ]
          },
          "metadata": {},
          "execution_count": 2
        }
      ],
      "source": [
        "density = data[:,1]\n",
        "density"
      ]
    },
    {
      "cell_type": "markdown",
      "source": [
        "スライスでは、値の範囲できます。以下の構文は、行列 A の 1,2,3 行目を含む行列を作成します。\n",
        "```\n",
        "x = A[:3,:]\n",
        "```\n",
        "data の最後の2列を含む変数 volumes を作成しましょう。"
      ],
      "metadata": {
        "id": "xQgAHgHJ9Tkl"
      }
    },
    {
      "cell_type": "code",
      "source": [
        "volumes = data[:,-2:]\n",
        "volumes"
      ],
      "metadata": {
        "colab": {
          "base_uri": "https://localhost:8080/"
        },
        "id": "XziMwHrs9Xmw",
        "outputId": "9fc52f06-43e9-4042-de94-b1254ca39697"
      },
      "execution_count": 3,
      "outputs": [
        {
          "output_type": "execute_result",
          "data": {
            "text/plain": [
              "array([[ 4.0753,     nan],\n",
              "       [ 6.6678,  2.1328],\n",
              "       [ 1.5177,  3.6852],\n",
              "       [ 3.6375,  8.5389],\n",
              "       [ 4.7243, 10.157 ],\n",
              "       [ 9.0698,  2.8739],\n",
              "       [ 5.3002,  4.4508]])"
            ]
          },
          "metadata": {},
          "execution_count": 3
        }
      ]
    },
    {
      "cell_type": "markdown",
      "source": [
        "単一のインデクスを使用して、ベクトル要素を参照できます。たとえば、\n",
        "```\n",
        "x = v[2]\n",
        "```\n",
        "は、v がベクトルの場合、v の 3 番目の要素を返します。\n",
        "\n",
        "単一のインデクスを用いて、ベクトル density の 6 番目の要素を含む p という変数を作成しましょう。"
      ],
      "metadata": {
        "id": "alO91fsO9zxi"
      }
    },
    {
      "cell_type": "code",
      "source": [
        "p = density[5]\n",
        "p"
      ],
      "metadata": {
        "colab": {
          "base_uri": "https://localhost:8080/"
        },
        "id": "35RloPNHF4Bw",
        "outputId": "a4b64819-eb16-4156-de76-450aa4033a8c"
      },
      "execution_count": 4,
      "outputs": [
        {
          "output_type": "execute_result",
          "data": {
            "text/plain": [
              "np.float64(6.11)"
            ]
          },
          "metadata": {},
          "execution_count": 4
        }
      ]
    },
    {
      "cell_type": "markdown",
      "source": [
        "ベクトルの場合も、スライスでベクトル要素の一部を参照できます。たとえば、\n",
        "```\n",
        "x = v[2:]\n",
        "```\n",
        "は、3番目から最後までの要素を含む、ベクトル v の一部を返します。\n",
        "\n",
        "スライスを使用して、density の 2番目から5番目までの要素を含む p というベクトルを作成しましょう。"
      ],
      "metadata": {
        "id": "8HemSpqcGLkq"
      }
    },
    {
      "cell_type": "code",
      "source": [
        "p = density[1:5]\n",
        "p"
      ],
      "metadata": {
        "colab": {
          "base_uri": "https://localhost:8080/"
        },
        "id": "-tbv0yppFL5a",
        "outputId": "cf427d72-0229-4f6f-f99c-46ba590f9f24"
      },
      "execution_count": 5,
      "outputs": [
        {
          "output_type": "execute_result",
          "data": {
            "text/plain": [
              "array([1.78, 0.86, 1.6 , 3.  ])"
            ]
          },
          "metadata": {},
          "execution_count": 5
        }
      ]
    },
    {
      "cell_type": "markdown",
      "source": [
        "単一のインデクス値を使用して、ベクトルの要素を参照できます。たとえば、\n",
        "```\n",
        "x = v[2]\n",
        "```\n",
        "は、v がベクトル、もしくは列ベクトルの場合、ベクトル v の 3 番目の要素を返します。\n",
        "\n",
        "行ベクトルの場合は、\n",
        "```\n",
        "x = v[0,2]\n",
        "```\n",
        "としなければなりません。\n",
        "\n",
        "単一のインデクス値を使用して、ベクトル density の 6 番目の要素を含む p という変数を作成しましょう。\n"
      ],
      "metadata": {
        "id": "sTFFk38iwDF6"
      }
    },
    {
      "cell_type": "code",
      "source": [
        "p = density[5]\n",
        "p"
      ],
      "metadata": {
        "colab": {
          "base_uri": "https://localhost:8080/"
        },
        "id": "RJWz1Jd0wUUp",
        "outputId": "a4ebcf9a-d21c-4dfd-f2b1-bd060cb6bb47"
      },
      "execution_count": 6,
      "outputs": [
        {
          "output_type": "execute_result",
          "data": {
            "text/plain": [
              "np.float64(6.11)"
            ]
          },
          "metadata": {},
          "execution_count": 6
        }
      ]
    },
    {
      "cell_type": "markdown",
      "source": [
        "インデクス値のスライスを使用して、ベクトル要素のサブセットを参照できます。例えば、\n",
        "```\n",
        "x = v[2:]\n",
        "```\n",
        "は、3番目から最後までの要素を含む、ベクトル v のサブセットを返します。\n",
        "\n",
        "インデクス値のスライスを使用して、density の 2 番目から5番目までの要素を含む p というベクトルを作成しましょう。\n"
      ],
      "metadata": {
        "id": "aQwqZJQvyt3l"
      }
    },
    {
      "cell_type": "code",
      "source": [
        "p = density[1:5]\n",
        "p"
      ],
      "metadata": {
        "colab": {
          "base_uri": "https://localhost:8080/"
        },
        "id": "KCFx6LF0zBow",
        "outputId": "d54dbeb3-ba71-4f12-de99-cbdd94e1c186"
      },
      "execution_count": 7,
      "outputs": [
        {
          "output_type": "execute_result",
          "data": {
            "text/plain": [
              "array([1.78, 0.86, 1.6 , 3.  ])"
            ]
          },
          "metadata": {},
          "execution_count": 7
        }
      ]
    },
    {
      "cell_type": "markdown",
      "source": [
        "インデクスは、数値のリスト(配列)で指定しても構いません。density の 1,3,6 番目の値を抽出してみましょう。"
      ],
      "metadata": {
        "id": "HarjiApyAPQ6"
      }
    },
    {
      "cell_type": "code",
      "source": [
        "density[[0,2,5]]"
      ],
      "metadata": {
        "colab": {
          "base_uri": "https://localhost:8080/"
        },
        "id": "3IQx5lAU_mZ4",
        "outputId": "5da391f3-b1ef-42cf-f711-61c42bcde494"
      },
      "execution_count": 8,
      "outputs": [
        {
          "output_type": "execute_result",
          "data": {
            "text/plain": [
              "array([0.53, 0.86, 6.11])"
            ]
          },
          "metadata": {},
          "execution_count": 8
        }
      ]
    }
  ]
}