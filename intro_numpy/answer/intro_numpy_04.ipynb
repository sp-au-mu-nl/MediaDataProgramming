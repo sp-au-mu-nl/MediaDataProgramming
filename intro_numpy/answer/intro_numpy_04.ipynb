{
  "nbformat": 4,
  "nbformat_minor": 0,
  "metadata": {
    "colab": {
      "provenance": [],
      "authorship_tag": "ABX9TyOTp8TU/BLnGI8QG9k6rHi5",
      "include_colab_link": true
    },
    "kernelspec": {
      "name": "python3",
      "display_name": "Python 3"
    },
    "language_info": {
      "name": "python"
    }
  },
  "cells": [
    {
      "cell_type": "markdown",
      "metadata": {
        "id": "view-in-github",
        "colab_type": "text"
      },
      "source": [
        "<a href=\"https://colab.research.google.com/github/sp-au-mu-nl/MediaDataProgramming/blob/main/intro_numpy/answer/intro_numpy_04.ipynb\" target=\"_parent\"><img src=\"https://colab.research.google.com/assets/colab-badge.svg\" alt=\"Open In Colab\"/></a>"
      ]
    },
    {
      "cell_type": "markdown",
      "source": [
        "# 関数および定数の利用"
      ],
      "metadata": {
        "id": "q3tO-iY2Z7_-"
      }
    },
    {
      "cell_type": "code",
      "execution_count": 1,
      "metadata": {
        "id": "k9uuMZWDvwCi"
      },
      "outputs": [],
      "source": [
        "import numpy as np"
      ]
    },
    {
      "cell_type": "markdown",
      "source": [
        "numpy には、$\\pi$ を表す np.pi などの組込定数があります。"
      ],
      "metadata": {
        "id": "AqBEF2Zfv7WT"
      }
    },
    {
      "cell_type": "code",
      "source": [
        "a = np.pi\n",
        "a"
      ],
      "metadata": {
        "colab": {
          "base_uri": "https://localhost:8080/"
        },
        "id": "IScEFs9nv6GK",
        "outputId": "2d9ba258-f0cc-4da3-bff0-4b85dfdf3039"
      },
      "execution_count": 2,
      "outputs": [
        {
          "output_type": "execute_result",
          "data": {
            "text/plain": [
              "3.141592653589793"
            ]
          },
          "metadata": {},
          "execution_count": 2
        }
      ]
    },
    {
      "cell_type": "markdown",
      "source": [
        "表示される桁は一部であることに注意してください。\n",
        "\n",
        "$\\pi/2$ の値をもつ x という変数を作成しましょう。"
      ],
      "metadata": {
        "id": "eXFKhg8UwM4x"
      }
    },
    {
      "cell_type": "code",
      "source": [
        "x = np.pi/2"
      ],
      "metadata": {
        "id": "daWd1aP0wJ8o"
      },
      "execution_count": 3,
      "outputs": []
    },
    {
      "cell_type": "markdown",
      "source": [
        "numpy には、abs(絶対値) や eig(固有値の計算)など、さまざまな組込関数が含まれています。"
      ],
      "metadata": {
        "id": "OEvvlHbczE_e"
      }
    },
    {
      "cell_type": "code",
      "source": [
        "a = np.sin(-5)\n",
        "a"
      ],
      "metadata": {
        "colab": {
          "base_uri": "https://localhost:8080/"
        },
        "id": "kcuONV36zaoo",
        "outputId": "50588c68-1962-473f-e2e9-241568460b07"
      },
      "execution_count": 4,
      "outputs": [
        {
          "output_type": "execute_result",
          "data": {
            "text/plain": [
              "np.float64(0.9589242746631385)"
            ]
          },
          "metadata": {},
          "execution_count": 4
        }
      ]
    },
    {
      "cell_type": "markdown",
      "source": [
        "関数 sin を使用して、x の正弦を計算しましょう。その結果を y という変数に代入しましょう。"
      ],
      "metadata": {
        "id": "lIEHYcYWzhWC"
      }
    },
    {
      "cell_type": "code",
      "source": [
        "y = np.sin(x)\n",
        "y"
      ],
      "metadata": {
        "colab": {
          "base_uri": "https://localhost:8080/"
        },
        "id": "bFOo6-42zqhH",
        "outputId": "90aa7f90-2392-403a-a1e0-37e62efcb0c2"
      },
      "execution_count": 5,
      "outputs": [
        {
          "output_type": "execute_result",
          "data": {
            "text/plain": [
              "np.float64(1.0)"
            ]
          },
          "metadata": {},
          "execution_count": 5
        }
      ]
    },
    {
      "cell_type": "markdown",
      "source": [
        "-9 の平方根を計算するような場合は、np.sqrt ではなく、np.emath.sqrt を使うと複素数の結果が得られます。"
      ],
      "metadata": {
        "id": "igMDUr2xzzDA"
      }
    },
    {
      "cell_type": "code",
      "source": [
        "z = np.sqrt(-9)\n",
        "print(z)\n",
        "z = np.emath.sqrt(-9)\n",
        "print(z)"
      ],
      "metadata": {
        "colab": {
          "base_uri": "https://localhost:8080/"
        },
        "id": "wfL2tX410SKk",
        "outputId": "e038f1f3-f48f-49fd-8d88-eaf82925ddd6"
      },
      "execution_count": 6,
      "outputs": [
        {
          "output_type": "stream",
          "name": "stdout",
          "text": [
            "nan\n",
            "3j\n"
          ]
        },
        {
          "output_type": "stream",
          "name": "stderr",
          "text": [
            "/tmp/ipython-input-4001669844.py:1: RuntimeWarning: invalid value encountered in sqrt\n",
            "  z = np.sqrt(-9)\n"
          ]
        }
      ]
    },
    {
      "cell_type": "markdown",
      "source": [
        "3j の j は虚数単位を表します。\n",
        "nan は Not a Number の略であり数でないオブジェクトを表します。"
      ],
      "metadata": {
        "id": "gunkm13a1-u4"
      }
    },
    {
      "cell_type": "code",
      "source": [
        "x"
      ],
      "metadata": {
        "id": "MLKjtzWI4a9y",
        "outputId": "a067d15c-9c33-44eb-9c38-8218147f8b75",
        "colab": {
          "base_uri": "https://localhost:8080/"
        }
      },
      "execution_count": 7,
      "outputs": [
        {
          "output_type": "execute_result",
          "data": {
            "text/plain": [
              "1.5707963267948966"
            ]
          },
          "metadata": {},
          "execution_count": 7
        }
      ]
    }
  ]
}