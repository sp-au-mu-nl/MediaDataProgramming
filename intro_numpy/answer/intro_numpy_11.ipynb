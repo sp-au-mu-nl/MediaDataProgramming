{
  "nbformat": 4,
  "nbformat_minor": 0,
  "metadata": {
    "colab": {
      "provenance": [],
      "authorship_tag": "ABX9TyNrWHVniiMBfcFZ2tr5qIg1",
      "include_colab_link": true
    },
    "kernelspec": {
      "name": "python3",
      "display_name": "Python 3"
    },
    "language_info": {
      "name": "python"
    }
  },
  "cells": [
    {
      "cell_type": "markdown",
      "metadata": {
        "id": "view-in-github",
        "colab_type": "text"
      },
      "source": [
        "<a href=\"https://colab.research.google.com/github/sp-au-mu-nl/MediaDataProgramming/blob/main/intro_numpy/answer/intro_numpy_11.ipynb\" target=\"_parent\"><img src=\"https://colab.research.google.com/assets/colab-badge.svg\" alt=\"Open In Colab\"/></a>"
      ]
    },
    {
      "cell_type": "markdown",
      "source": [
        "# ベクトルに対する配列演算の実行"
      ],
      "metadata": {
        "id": "Z1o1KefhdpSh"
      }
    },
    {
      "cell_type": "code",
      "source": [
        "import numpy as np\n",
        "\n",
        "data = np.array([[3, 0.53, 4.0753, 0.5],\n",
        "              [18, 1.78, 6.6678, 2.1328],\n",
        "              [19, 0.86, 1.5177, 3.6852],\n",
        "              [20, 1.6, 3.6375, 8.5389],\n",
        "              [21, 3, 4.7243, 10.157],\n",
        "              [23, 6.11, 9.0698, 2.8739],\n",
        "              [38, 2.54, 5.3002, 4.4508]])\n",
        "\n",
        "density = np.copy(data[:,1])\n",
        "v1 = np.copy(data[:,2])\n",
        "v2 = np.copy(data[:,3])"
      ],
      "metadata": {
        "id": "lm4E7kHz1QD1"
      },
      "execution_count": 23,
      "outputs": []
    },
    {
      "cell_type": "markdown",
      "source": [
        "numpy は、ベクトルや行列を数学での数式と同じように扱えるように設計されています。例えば、1 つの配列の全ての要素にスカラー値を加算できます。\n",
        "```\n",
        "y = x + 2\n",
        "```\n",
        "v1 の各要素に 1 を加算して、結果を r という変数に保存しましょう。"
      ],
      "metadata": {
        "id": "Yaf9lns31FyN"
      }
    },
    {
      "cell_type": "code",
      "source": [
        "r = v1 + 1\n",
        "r"
      ],
      "metadata": {
        "colab": {
          "base_uri": "https://localhost:8080/"
        },
        "id": "CjVSGi1R5F94",
        "outputId": "58a78bf2-8d60-4bf3-8140-958901022c65"
      },
      "execution_count": 24,
      "outputs": [
        {
          "output_type": "execute_result",
          "data": {
            "text/plain": [
              "array([ 5.0753,  7.6678,  2.5177,  4.6375,  5.7243, 10.0698,  6.3002])"
            ]
          },
          "metadata": {},
          "execution_count": 24
        }
      ]
    },
    {
      "cell_type": "markdown",
      "source": [
        "同じ shape を持つ任意の 2 つの配列を加算できます。\n",
        "```\n",
        "z = x + y\n",
        "```\n",
        "ベクトル v1 と v2 の和であるベクトル vs を作成しましょう。"
      ],
      "metadata": {
        "id": "FSFKYTm05Q4J"
      }
    },
    {
      "cell_type": "code",
      "source": [
        "vs = v1 + v2\n",
        "vs"
      ],
      "metadata": {
        "colab": {
          "base_uri": "https://localhost:8080/"
        },
        "id": "fpdDjzLJ4oY3",
        "outputId": "496d1e6c-1319-42df-e458-41298660def4"
      },
      "execution_count": 25,
      "outputs": [
        {
          "output_type": "execute_result",
          "data": {
            "text/plain": [
              "array([ 4.5753,  8.8006,  5.2029, 12.1764, 14.8813, 11.9437,  9.751 ])"
            ]
          },
          "metadata": {},
          "execution_count": 25
        }
      ]
    },
    {
      "cell_type": "markdown",
      "source": [
        "配列の全ての要素をスカラーで乗算または除算できます。\n",
        "```\n",
        "z = 2*x\n",
        "y = x/3\n",
        "```\n",
        "vs を 2 で除算した値 (平均) を含む変数 va を作成しましょう。"
      ],
      "metadata": {
        "id": "nz8yI0gf5wbd"
      }
    },
    {
      "cell_type": "code",
      "execution_count": 26,
      "metadata": {
        "colab": {
          "base_uri": "https://localhost:8080/"
        },
        "id": "KRkFuIrM0zRM",
        "outputId": "ae2db4b7-3da1-4549-95ba-63349b8657f8"
      },
      "outputs": [
        {
          "output_type": "execute_result",
          "data": {
            "text/plain": [
              "array([2.28765, 4.4003 , 2.60145, 6.0882 , 7.44065, 5.97185, 4.8755 ])"
            ]
          },
          "metadata": {},
          "execution_count": 26
        }
      ],
      "source": [
        "va = vs/2\n",
        "va"
      ]
    },
    {
      "cell_type": "markdown",
      "source": [
        "numpy では、ベクトルに基本的な統計関数を適用して単一の出力を得られます。ベクトルの最大値は関数 max を使用して特定します。\n",
        "```\n",
        "xMax = np.max(x)\n",
        "```\n",
        "va ベクトルの最大値を含む変数 vm を作成しましょう。"
      ],
      "metadata": {
        "id": "xQgAHgHJ9Tkl"
      }
    },
    {
      "cell_type": "code",
      "source": [
        "vm = np.max(va)\n",
        "vm"
      ],
      "metadata": {
        "colab": {
          "base_uri": "https://localhost:8080/"
        },
        "id": "XziMwHrs9Xmw",
        "outputId": "728861d4-171a-441b-84be-1cd4b2b38022"
      },
      "execution_count": 27,
      "outputs": [
        {
          "output_type": "execute_result",
          "data": {
            "text/plain": [
              "np.float64(7.44065)"
            ]
          },
          "metadata": {},
          "execution_count": 27
        }
      ]
    },
    {
      "cell_type": "markdown",
      "source": [
        "numpy には、値のベクトルまたは配列全体に対し単一のコマンドで数学演算を実行する関数が用意されています。\n",
        "```\n",
        "xSqrt = np.sqrt(x)\n",
        "```\n",
        "関数 round を使用して、丸められた平均 va を含む vr という変数を作成しましょう。"
      ],
      "metadata": {
        "id": "AEBfB0ri1d2J"
      }
    },
    {
      "cell_type": "code",
      "source": [
        "vr = np.round(va)\n",
        "vr"
      ],
      "metadata": {
        "colab": {
          "base_uri": "https://localhost:8080/"
        },
        "id": "QD6C6GNx1nNa",
        "outputId": "4b8a7390-0cf2-456e-ad5e-afc485deb895"
      },
      "execution_count": 28,
      "outputs": [
        {
          "output_type": "execute_result",
          "data": {
            "text/plain": [
              "array([2., 4., 3., 6., 7., 6., 5.])"
            ]
          },
          "metadata": {},
          "execution_count": 28
        }
      ]
    },
    {
      "cell_type": "markdown",
      "source": [
        "* 演算子を shape の等しいベクトルや行列に使用すると、要素単位の乗算(アダマール積) を求められます。"
      ],
      "metadata": {
        "id": "alO91fsO9zxi"
      }
    },
    {
      "cell_type": "code",
      "source": [
        "z = np.array([3,4]) * np.array([10,20])\n",
        "z"
      ],
      "metadata": {
        "colab": {
          "base_uri": "https://localhost:8080/"
        },
        "id": "90JAJ9Ex8Son",
        "outputId": "9b108fdc-f1df-48bf-bd60-952e3fe42a87"
      },
      "execution_count": 29,
      "outputs": [
        {
          "output_type": "execute_result",
          "data": {
            "text/plain": [
              "array([30, 80])"
            ]
          },
          "metadata": {},
          "execution_count": 29
        }
      ]
    },
    {
      "cell_type": "markdown",
      "source": [
        "これに対して、行列の乗算を計算したい場合には、@ 演算子を利用します。\n",
        "例えば、2 つの shape が同じ 2 つのベクトルを @ で乗算すると、内積が求まります。"
      ],
      "metadata": {
        "id": "el2woGm28f_r"
      }
    },
    {
      "cell_type": "code",
      "source": [
        "np.array([3,4]) @ np.array([10,20])"
      ],
      "metadata": {
        "colab": {
          "base_uri": "https://localhost:8080/"
        },
        "id": "62T0wcH981Bd",
        "outputId": "be9c21a4-283a-44a9-b736-bb1d9b74d56f"
      },
      "execution_count": 30,
      "outputs": [
        {
          "output_type": "execute_result",
          "data": {
            "text/plain": [
              "np.int64(110)"
            ]
          },
          "metadata": {},
          "execution_count": 30
        }
      ]
    },
    {
      "cell_type": "markdown",
      "source": [
        "density と va の要素単位の積を含む mass という変数を作成しましょう。"
      ],
      "metadata": {
        "id": "0isMVfA19RPf"
      }
    },
    {
      "cell_type": "code",
      "source": [
        "mass = density * va\n",
        "mass"
      ],
      "metadata": {
        "colab": {
          "base_uri": "https://localhost:8080/"
        },
        "id": "zE5WYGmz9LaM",
        "outputId": "2b7fc860-a20d-4c6c-90de-7b36c00186ab"
      },
      "execution_count": 31,
      "outputs": [
        {
          "output_type": "execute_result",
          "data": {
            "text/plain": [
              "array([ 1.2124545,  7.832534 ,  2.237247 ,  9.74112  , 22.32195  ,\n",
              "       36.4880035, 12.38377  ])"
            ]
          },
          "metadata": {},
          "execution_count": 31
        }
      ]
    },
    {
      "cell_type": "markdown",
      "source": [
        "以下の配列演算の例を示しました。\n",
        "\n",
        "\n",
        "*   同じ shape の 2 つの配列\n",
        "*   スカラーと配列\n",
        "\n",
        "演算ができるサイズの組み合わせは他にもあります。例えば、以下を試してみましょう。"
      ],
      "metadata": {
        "id": "bI0RYtW7-TCN"
      }
    },
    {
      "cell_type": "code",
      "source": [
        "x = np.array([[1,2],\n",
        "              [3,4],\n",
        "              [5,6],\n",
        "              [7,8]]) * np.array([[1],\n",
        "               [2],\n",
        "                [3],\n",
        "                 [4]])"
      ],
      "metadata": {
        "id": "gGx4-OHl-sDx"
      },
      "execution_count": 32,
      "outputs": []
    },
    {
      "cell_type": "markdown",
      "source": [
        "x の shape はどうなりましたか?"
      ],
      "metadata": {
        "id": "87wG37cq_KH1"
      }
    },
    {
      "cell_type": "code",
      "source": [
        "x"
      ],
      "metadata": {
        "colab": {
          "base_uri": "https://localhost:8080/"
        },
        "id": "lhHGv9S9_M3w",
        "outputId": "cfdbc784-7476-493e-a293-4939f7101bbd"
      },
      "execution_count": 33,
      "outputs": [
        {
          "output_type": "execute_result",
          "data": {
            "text/plain": [
              "array([[ 1,  2],\n",
              "       [ 6,  8],\n",
              "       [15, 18],\n",
              "       [28, 32]])"
            ]
          },
          "metadata": {},
          "execution_count": 33
        }
      ]
    },
    {
      "cell_type": "markdown",
      "source": [
        "この動作の詳細については、numpy の broadcast という機構について調べてみてください。"
      ],
      "metadata": {
        "id": "sFQ648MT_XZQ"
      }
    }
  ]
}