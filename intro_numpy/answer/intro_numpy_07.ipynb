{
  "nbformat": 4,
  "nbformat_minor": 0,
  "metadata": {
    "colab": {
      "provenance": [],
      "authorship_tag": "ABX9TyO/GPA4/2+VYrl4inydmXYT",
      "include_colab_link": true
    },
    "kernelspec": {
      "name": "python3",
      "display_name": "Python 3"
    },
    "language_info": {
      "name": "python"
    }
  },
  "cells": [
    {
      "cell_type": "markdown",
      "metadata": {
        "id": "view-in-github",
        "colab_type": "text"
      },
      "source": [
        "<a href=\"https://colab.research.google.com/github/sp-au-mu-nl/MediaDataProgramming/blob/main/intro_numpy/answer/intro_numpy_07.ipynb\" target=\"_parent\"><img src=\"https://colab.research.google.com/assets/colab-badge.svg\" alt=\"Open In Colab\"/></a>"
      ]
    },
    {
      "cell_type": "markdown",
      "source": [
        "# 配列作成関数"
      ],
      "metadata": {
        "id": "H0tFmuTmaqQo"
      }
    },
    {
      "cell_type": "code",
      "source": [
        "import numpy as np"
      ],
      "metadata": {
        "id": "sS5SEBtKwh1M"
      },
      "execution_count": 13,
      "outputs": []
    },
    {
      "cell_type": "markdown",
      "source": [
        "numpy には、乱数の行列など、一般に使用される行列の作成に役立つ関数が多数あります。"
      ],
      "metadata": {
        "id": "KGLXHrRewTde"
      }
    },
    {
      "cell_type": "code",
      "execution_count": 14,
      "metadata": {
        "colab": {
          "base_uri": "https://localhost:8080/"
        },
        "id": "bB9ZVjPswQKb",
        "outputId": "89a51791-03e0-4cf4-a74a-01ff349d5d67"
      },
      "outputs": [
        {
          "output_type": "execute_result",
          "data": {
            "text/plain": [
              "array([[0.41814714, 0.97575947],\n",
              "       [0.67991448, 0.60698804]])"
            ]
          },
          "metadata": {},
          "execution_count": 14
        }
      ],
      "source": [
        "x = np.random.rand(2,2)\n",
        "x"
      ]
    },
    {
      "cell_type": "markdown",
      "source": [
        "一様分布の乱数の 2行2列の行列が作成されました。\n",
        "\n",
        "乱数の5行5列の行列である x という行列を作成しましょう。"
      ],
      "metadata": {
        "id": "FiCSxySayI9J"
      }
    },
    {
      "cell_type": "code",
      "source": [
        "x = np.random.rand(5,5)\n",
        "x"
      ],
      "metadata": {
        "colab": {
          "base_uri": "https://localhost:8080/"
        },
        "id": "85v8jsV_yjnE",
        "outputId": "507ea330-18bf-4e10-886f-dcc1b160256c"
      },
      "execution_count": 15,
      "outputs": [
        {
          "output_type": "execute_result",
          "data": {
            "text/plain": [
              "array([[0.9515049 , 0.18816367, 0.25885128, 0.63703534, 0.74072159],\n",
              "       [0.34870553, 0.67211558, 0.43661103, 0.34926975, 0.42523107],\n",
              "       [0.28406896, 0.87145004, 0.4285624 , 0.10865886, 0.09484835],\n",
              "       [0.52964023, 0.41828946, 0.30292757, 0.09834613, 0.48447273],\n",
              "       [0.80285648, 0.88962639, 0.07441713, 0.47807857, 0.05933944]])"
            ]
          },
          "metadata": {},
          "execution_count": 15
        }
      ]
    },
    {
      "cell_type": "markdown",
      "source": [
        "rand を利用して 5行1列の配列を作成して x という変数に代入しましょう。"
      ],
      "metadata": {
        "id": "KTlESzTZy290"
      }
    },
    {
      "cell_type": "code",
      "source": [
        "x = np.random.rand(5,1)\n",
        "x"
      ],
      "metadata": {
        "colab": {
          "base_uri": "https://localhost:8080/"
        },
        "id": "4LFUf8hDy_oH",
        "outputId": "37020462-fe13-4246-8c39-3a25d32193bb"
      },
      "execution_count": 16,
      "outputs": [
        {
          "output_type": "execute_result",
          "data": {
            "text/plain": [
              "array([[0.74412119],\n",
              "       [0.63947579],\n",
              "       [0.09978012],\n",
              "       [0.66173602],\n",
              "       [0.76745543]])"
            ]
          },
          "metadata": {},
          "execution_count": 16
        }
      ]
    },
    {
      "cell_type": "markdown",
      "source": [
        "zeros を利用して 6 行 3 列の、すべてゼロの行列を作成して、x という変数に代入しましょう。"
      ],
      "metadata": {
        "id": "E8FIgxOhzLg1"
      }
    },
    {
      "cell_type": "code",
      "source": [
        "x = np.zeros((6,3),np.int32)\n",
        "x"
      ],
      "metadata": {
        "colab": {
          "base_uri": "https://localhost:8080/"
        },
        "id": "lv2QMTdizW6z",
        "outputId": "8d46413f-76c0-488a-ae97-590c720b8395"
      },
      "execution_count": 17,
      "outputs": [
        {
          "output_type": "execute_result",
          "data": {
            "text/plain": [
              "array([[0, 0, 0],\n",
              "       [0, 0, 0],\n",
              "       [0, 0, 0],\n",
              "       [0, 0, 0],\n",
              "       [0, 0, 0],\n",
              "       [0, 0, 0]], dtype=int32)"
            ]
          },
          "metadata": {},
          "execution_count": 17
        }
      ]
    },
    {
      "cell_type": "markdown",
      "source": [
        "shape 属性を使うと、既存の行列と同じサイズの行列を簡単に作れます。"
      ],
      "metadata": {
        "id": "73lLFbXV0TmD"
      }
    },
    {
      "cell_type": "code",
      "source": [
        "y = np.random.rand(*x.shape)\n",
        "y.shape"
      ],
      "metadata": {
        "colab": {
          "base_uri": "https://localhost:8080/"
        },
        "id": "Ix7N_rAm0StK",
        "outputId": "2924ee5a-5c94-42e0-d052-57b7e9a4ec2a"
      },
      "execution_count": 18,
      "outputs": [
        {
          "output_type": "execute_result",
          "data": {
            "text/plain": [
              "(6, 3)"
            ]
          },
          "metadata": {},
          "execution_count": 18
        }
      ]
    },
    {
      "cell_type": "markdown",
      "source": [
        "* は、タプルを数字の列に展開します。"
      ],
      "metadata": {
        "id": "cybbDACx0pml"
      }
    }
  ]
}