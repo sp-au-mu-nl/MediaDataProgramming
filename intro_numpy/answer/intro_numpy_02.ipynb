{
  "nbformat": 4,
  "nbformat_minor": 0,
  "metadata": {
    "colab": {
      "provenance": [],
      "authorship_tag": "ABX9TyMw3SFQekDbaA91XHwT4ji3",
      "include_colab_link": true
    },
    "kernelspec": {
      "name": "python3",
      "display_name": "Python 3"
    },
    "language_info": {
      "name": "python"
    }
  },
  "cells": [
    {
      "cell_type": "markdown",
      "metadata": {
        "id": "view-in-github",
        "colab_type": "text"
      },
      "source": [
        "<a href=\"https://colab.research.google.com/github/sp-au-mu-nl/MediaDataProgramming/blob/main/intro_numpy/answer/intro_numpy_02.ipynb\" target=\"_parent\"><img src=\"https://colab.research.google.com/assets/colab-badge.svg\" alt=\"Open In Colab\"/></a>"
      ]
    },
    {
      "cell_type": "markdown",
      "source": [
        "# 変数の命名"
      ],
      "metadata": {
        "id": "24QHcXQoZif4"
      }
    },
    {
      "cell_type": "code",
      "source": [
        "a = 8"
      ],
      "metadata": {
        "id": "OPmZfpbLcfzT"
      },
      "execution_count": 1,
      "outputs": []
    },
    {
      "cell_type": "markdown",
      "source": [
        "英字もしくは _ (アンダースコア) で始まり、英字、_, 数字のみを含むものであれば、変数にはどんな名前でもつけられます。\n",
        "\n",
        "変数名では、大文字と小文字も区別されます。\n",
        "\n",
        "$-2$ を $A$ に代入します。"
      ],
      "metadata": {
        "id": "uSObI4Mvb1Px"
      }
    },
    {
      "cell_type": "code",
      "execution_count": 2,
      "metadata": {
        "id": "lk0uMt7JbmTJ"
      },
      "outputs": [],
      "source": [
        "A = -2"
      ]
    },
    {
      "cell_type": "markdown",
      "source": [
        "変数 $A$ と $a$ の両方が存在することを確認しましょう。\n",
        "\n",
        "変数名は、何か意味のある名前にした方がプログラムが書きやすくなるでしょう。\n",
        "\n",
        "$\\frac{a+A}{2}$ を計算します。その結果を $avgAa$ に代入しましょう。"
      ],
      "metadata": {
        "id": "_kxebBZddnCM"
      }
    },
    {
      "cell_type": "code",
      "source": [
        "avgAa = (a+A)/2"
      ],
      "metadata": {
        "id": "UYKLgN3ncZRH"
      },
      "execution_count": 3,
      "outputs": []
    },
    {
      "cell_type": "markdown",
      "source": [
        "規約にしたがわない変数名は SyntaxError になります。\n",
        "\n",
        "$3sq=9$ を実行してみましょう。\n",
        "\n"
      ],
      "metadata": {
        "id": "KZr7Hu_HhLKV"
      }
    },
    {
      "cell_type": "code",
      "source": [
        "3sq=9"
      ],
      "metadata": {
        "colab": {
          "base_uri": "https://localhost:8080/",
          "height": 110
        },
        "id": "uY-_k8m_hEIq",
        "outputId": "eacbfa00-47be-468d-e6c4-299c83e53fd2"
      },
      "execution_count": 4,
      "outputs": [
        {
          "output_type": "error",
          "ename": "SyntaxError",
          "evalue": "invalid decimal literal (ipython-input-4137718987.py, line 1)",
          "traceback": [
            "\u001b[0;36m  File \u001b[0;32m\"/tmp/ipython-input-4137718987.py\"\u001b[0;36m, line \u001b[0;32m1\u001b[0m\n\u001b[0;31m    3sq=9\u001b[0m\n\u001b[0m    ^\u001b[0m\n\u001b[0;31mSyntaxError\u001b[0m\u001b[0;31m:\u001b[0m invalid decimal literal\n"
          ]
        }
      ]
    }
  ]
}