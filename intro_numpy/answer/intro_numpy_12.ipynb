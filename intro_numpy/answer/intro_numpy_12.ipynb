{
  "nbformat": 4,
  "nbformat_minor": 0,
  "metadata": {
    "colab": {
      "provenance": [],
      "authorship_tag": "ABX9TyO86Mzsb9/cP19UihmyEF7q",
      "include_colab_link": true
    },
    "kernelspec": {
      "name": "python3",
      "display_name": "Python 3"
    },
    "language_info": {
      "name": "python"
    }
  },
  "cells": [
    {
      "cell_type": "markdown",
      "metadata": {
        "id": "view-in-github",
        "colab_type": "text"
      },
      "source": [
        "<a href=\"https://colab.research.google.com/github/sp-au-mu-nl/MediaDataProgramming/blob/main/intro_numpy/answer/intro_numpy_12.ipynb\" target=\"_parent\"><img src=\"https://colab.research.google.com/assets/colab-badge.svg\" alt=\"Open In Colab\"/></a>"
      ]
    },
    {
      "cell_type": "markdown",
      "source": [
        "# 関数からの複数の出力の取得"
      ],
      "metadata": {
        "id": "F41X1jQ0eFFz"
      }
    },
    {
      "cell_type": "code",
      "source": [
        "import numpy as np\n",
        "\n",
        "data = np.array([[3, 0.53, 4.0753, 0.5],\n",
        "              [18, 1.78, 6.6678, 2.1328],\n",
        "              [19, 0.86, 1.5177, 3.6852],\n",
        "              [20, 1.6, 3.6375, 8.5389],\n",
        "              [21, 3, 4.7243, 10.157],\n",
        "              [23, 6.11, 9.0698, 2.8739],\n",
        "              [38, 2.54, 5.3002, 4.4508]])\n",
        "v1 = np.copy(data[:,2])\n",
        "v2 = np.copy(data[:,3])"
      ],
      "metadata": {
        "id": "lm4E7kHz1QD1"
      },
      "execution_count": 1,
      "outputs": []
    },
    {
      "cell_type": "markdown",
      "source": [
        "属性 shape を用いると、配列の shape を含む変数を生成できます。\n",
        "```\n",
        "s = x.shape\n",
        "```\n",
        "変数 data の shape を含む、dshape という変数を作成しましょう。"
      ],
      "metadata": {
        "id": "Yaf9lns31FyN"
      }
    },
    {
      "cell_type": "code",
      "source": [
        "dshape = data.shape\n",
        "dshape"
      ],
      "metadata": {
        "colab": {
          "base_uri": "https://localhost:8080/"
        },
        "id": "CjVSGi1R5F94",
        "outputId": "bba7ce16-8596-4021-c0c4-259bc2442d6a"
      },
      "execution_count": 2,
      "outputs": [
        {
          "output_type": "execute_result",
          "data": {
            "text/plain": [
              "(7, 4)"
            ]
          },
          "metadata": {},
          "execution_count": 2
        }
      ]
    },
    {
      "cell_type": "markdown",
      "source": [
        "行列の shape 属性は、タプルになっています。タプルの個々の要素の値を取得するには、タプルの要素数だけの変数を用意します。\n",
        "```\n",
        "xrow, xcol = x.shape\n",
        "```\n",
        "変数 data の行数と列数をそれぞれ含む変数 dr および dc を作成しましょう。\n"
      ],
      "metadata": {
        "id": "FSFKYTm05Q4J"
      }
    },
    {
      "cell_type": "code",
      "source": [
        "dr, dc = data.shape\n",
        "print(dr, dc)"
      ],
      "metadata": {
        "colab": {
          "base_uri": "https://localhost:8080/"
        },
        "id": "fpdDjzLJ4oY3",
        "outputId": "9a68639e-d6dc-43db-c6dc-844f9be042ed"
      },
      "execution_count": 3,
      "outputs": [
        {
          "output_type": "stream",
          "name": "stdout",
          "text": [
            "7 4\n"
          ]
        }
      ]
    },
    {
      "cell_type": "code",
      "source": [
        "np.argmax(v2)"
      ],
      "metadata": {
        "colab": {
          "base_uri": "https://localhost:8080/"
        },
        "id": "3osKpGxdC9n5",
        "outputId": "84b58267-31d9-438f-e6c5-27c51b008542"
      },
      "execution_count": 4,
      "outputs": [
        {
          "output_type": "execute_result",
          "data": {
            "text/plain": [
              "np.int64(4)"
            ]
          },
          "metadata": {},
          "execution_count": 4
        }
      ]
    },
    {
      "cell_type": "markdown",
      "source": [
        "ベクトルの最大値に対応するインデクス値は、関数 argmax を使用して特定できます。\n",
        "```\n",
        "idx = np.argmax(x)\n",
        "```\n",
        "ベクトル v2 の最大値とそれに対応するインデクス値をそれぞれ含む、変数 vMax および ivMax を作成しましょう。"
      ],
      "metadata": {
        "id": "nz8yI0gf5wbd"
      }
    },
    {
      "cell_type": "code",
      "execution_count": 5,
      "metadata": {
        "colab": {
          "base_uri": "https://localhost:8080/"
        },
        "id": "KRkFuIrM0zRM",
        "outputId": "23bbd634-e4bc-4073-c8f3-f20b1d8e85d9"
      },
      "outputs": [
        {
          "output_type": "stream",
          "name": "stdout",
          "text": [
            "10.157 4\n"
          ]
        }
      ],
      "source": [
        "vMax = np.max(v2)\n",
        "ivMax = np.argmax(v2)\n",
        "print(vMax, ivMax)"
      ]
    },
    {
      "cell_type": "markdown",
      "source": [
        "argmax 関数を用いて得られたインデクス値を用いて最大値を抽出することもできます。\n",
        "\n",
        "argmin 関数を用いて、v2 の最小値を抽出してみましょう。"
      ],
      "metadata": {
        "id": "xQgAHgHJ9Tkl"
      }
    },
    {
      "cell_type": "code",
      "source": [
        "print(np.min(v2))\n",
        "v2[np.argmin(v2)]"
      ],
      "metadata": {
        "colab": {
          "base_uri": "https://localhost:8080/"
        },
        "id": "EyLL2CMTD2fg",
        "outputId": "72c994ea-8e1f-479f-db4f-b2ab3b2063d3"
      },
      "execution_count": 6,
      "outputs": [
        {
          "output_type": "stream",
          "name": "stdout",
          "text": [
            "0.5\n"
          ]
        },
        {
          "output_type": "execute_result",
          "data": {
            "text/plain": [
              "np.float64(0.5)"
            ]
          },
          "metadata": {},
          "execution_count": 6
        }
      ]
    }
  ]
}