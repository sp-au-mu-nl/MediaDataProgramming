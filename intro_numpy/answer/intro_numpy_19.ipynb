{
  "nbformat": 4,
  "nbformat_minor": 0,
  "metadata": {
    "colab": {
      "provenance": [],
      "authorship_tag": "ABX9TyN0bkBf/HOdtp3hwcWm+Phv",
      "include_colab_link": true
    },
    "kernelspec": {
      "name": "python3",
      "display_name": "Python 3"
    },
    "language_info": {
      "name": "python"
    }
  },
  "cells": [
    {
      "cell_type": "markdown",
      "metadata": {
        "id": "view-in-github",
        "colab_type": "text"
      },
      "source": [
        "<a href=\"https://colab.research.google.com/github/sp-au-mu-nl/MediaDataProgramming/blob/main/intro_numpy/answer/intro_numpy_19.ipynb\" target=\"_parent\"><img src=\"https://colab.research.google.com/assets/colab-badge.svg\" alt=\"Open In Colab\"/></a>"
      ]
    },
    {
      "cell_type": "markdown",
      "source": [
        "# 論理インデクスの作成"
      ],
      "metadata": {
        "id": "G4AtWAWQfm09"
      }
    },
    {
      "cell_type": "code",
      "source": [
        "import numpy as np\n",
        "\n",
        "data = np.array([[3, 0.53, 4.0753, 0.5],\n",
        "              [18, 1.78, 6.6678, 2.1328], # ここまでの ipynb は 1 列目が間違っている\n",
        "              [19, 0.86, 1.5177, 3.6852],\n",
        "              [20, 1.6, 3.6375, 8.5389],\n",
        "              [21, 3, 4.7243, 10.157],\n",
        "              [23, 6.11, 9.0698, 2.8739],\n",
        "              [38, 2.54, 5.3002, 4.4508]])\n",
        "\n",
        "sample = np.copy(data[:,0])\n",
        "v1 = np.copy(data[:,2])"
      ],
      "metadata": {
        "id": "lm4E7kHz1QD1"
      },
      "execution_count": 1,
      "outputs": []
    },
    {
      "cell_type": "markdown",
      "source": [
        " \\>、<、==、~= などの関係演算子は、2 つの値の比較を行います。等しいか等しくないかの比較の結果は、True (1) または False (0) となります。\n",
        "\n",
        "関係演算子 < を使用して、π が 4 より小さいかどうかをテストします。その出力を test という変数に代入します。"
      ],
      "metadata": {
        "id": "Yaf9lns31FyN"
      }
    },
    {
      "cell_type": "code",
      "source": [
        "test = np.pi < 4\n",
        "test"
      ],
      "metadata": {
        "colab": {
          "base_uri": "https://localhost:8080/"
        },
        "id": "CjVSGi1R5F94",
        "outputId": "0da80195-276d-4268-9813-71a56e1d8894"
      },
      "execution_count": 2,
      "outputs": [
        {
          "output_type": "execute_result",
          "data": {
            "text/plain": [
              "True"
            ]
          },
          "metadata": {},
          "execution_count": 2
        }
      ]
    },
    {
      "cell_type": "markdown",
      "source": [
        "関係演算子を使用して、ベクトルまたは行列を単一のスカラー値と比較できます。結果は、元の配列と同じサイズの Boolean 配列となります。"
      ],
      "metadata": {
        "id": "FSFKYTm05Q4J"
      }
    },
    {
      "cell_type": "code",
      "source": [
        "np.array([5,10,15]) > 12"
      ],
      "metadata": {
        "colab": {
          "base_uri": "https://localhost:8080/"
        },
        "id": "fpdDjzLJ4oY3",
        "outputId": "755e2f77-5985-449a-93af-94c1bd2e070a"
      },
      "execution_count": 3,
      "outputs": [
        {
          "output_type": "execute_result",
          "data": {
            "text/plain": [
              "array([False, False,  True])"
            ]
          },
          "metadata": {},
          "execution_count": 3
        }
      ]
    },
    {
      "cell_type": "markdown",
      "source": [
        "ベクトル v1 を、4 より小さい要素についてテストします。その出力を test という変数に代入します。"
      ],
      "metadata": {
        "id": "nz8yI0gf5wbd"
      }
    },
    {
      "cell_type": "code",
      "execution_count": 4,
      "metadata": {
        "colab": {
          "base_uri": "https://localhost:8080/"
        },
        "id": "KRkFuIrM0zRM",
        "outputId": "eb1ea4a9-3264-46b3-f70c-fdaf6bc6ed61"
      },
      "outputs": [
        {
          "output_type": "execute_result",
          "data": {
            "text/plain": [
              "array([False, False,  True,  True, False, False, False])"
            ]
          },
          "metadata": {},
          "execution_count": 4
        }
      ],
      "source": [
        "test = v1 < 4\n",
        "test"
      ]
    },
    {
      "cell_type": "markdown",
      "source": [
        "Boolean 配列を配列インデックスとして使用できます。その場合、numpy はインデックスが True である配列要素を抽出します。以下の例は、v1 内の 6 より大きい要素をすべて抽出します。"
      ],
      "metadata": {
        "id": "xQgAHgHJ9Tkl"
      }
    },
    {
      "cell_type": "code",
      "source": [
        "v = v1[v1 > 6]\n",
        "v"
      ],
      "metadata": {
        "colab": {
          "base_uri": "https://localhost:8080/"
        },
        "id": "X_vYmywiBWfm",
        "outputId": "0ae8cc79-4849-41ae-9495-cd5e391e1005"
      },
      "execution_count": 5,
      "outputs": [
        {
          "output_type": "execute_result",
          "data": {
            "text/plain": [
              "array([6.6678, 9.0698])"
            ]
          },
          "metadata": {},
          "execution_count": 5
        }
      ]
    },
    {
      "cell_type": "markdown",
      "source": [
        "v1 内の 4 より小さい要素をすべて含む変数 v を作成します。"
      ],
      "metadata": {
        "id": "Lh8jPvedBdw0"
      }
    },
    {
      "cell_type": "code",
      "source": [
        "v = v1[v1 < 4]\n",
        "v"
      ],
      "metadata": {
        "colab": {
          "base_uri": "https://localhost:8080/"
        },
        "id": "XziMwHrs9Xmw",
        "outputId": "68506a32-880e-4dbb-8c0d-649b6215fa44"
      },
      "execution_count": 6,
      "outputs": [
        {
          "output_type": "execute_result",
          "data": {
            "text/plain": [
              "array([1.5177, 3.6375])"
            ]
          },
          "metadata": {},
          "execution_count": 6
        }
      ]
    },
    {
      "cell_type": "markdown",
      "source": [
        "論理インデックスは、2 つの異なるベクトルと共に使用することもできます。"
      ],
      "metadata": {
        "id": "AEBfB0ri1d2J"
      }
    },
    {
      "cell_type": "code",
      "source": [
        "v = sample[v1 > 6]\n",
        "v"
      ],
      "metadata": {
        "colab": {
          "base_uri": "https://localhost:8080/"
        },
        "id": "JNrYB8tTBzLu",
        "outputId": "0d236ccd-1b74-4257-ed90-5463c14a51e2"
      },
      "execution_count": 7,
      "outputs": [
        {
          "output_type": "execute_result",
          "data": {
            "text/plain": [
              "array([18., 23.])"
            ]
          },
          "metadata": {},
          "execution_count": 7
        }
      ]
    },
    {
      "cell_type": "markdown",
      "source": [
        "sample 内の要素のうち、v1 が 4 より小さいものを含む変数 s を作成します。"
      ],
      "metadata": {
        "id": "PJSYE4NeB4H0"
      }
    },
    {
      "cell_type": "code",
      "source": [
        "s = sample[v1 < 4]\n",
        "s"
      ],
      "metadata": {
        "colab": {
          "base_uri": "https://localhost:8080/"
        },
        "id": "QD6C6GNx1nNa",
        "outputId": "01db82a4-56fa-41ed-ab95-04889cdcb7dd"
      },
      "execution_count": 8,
      "outputs": [
        {
          "output_type": "execute_result",
          "data": {
            "text/plain": [
              "array([19., 20.])"
            ]
          },
          "metadata": {},
          "execution_count": 8
        }
      ]
    },
    {
      "cell_type": "markdown",
      "source": [
        "論理インデックスを使用して、値を配列に代入し直すことができます。たとえば、配列 x 内の 999 に等しい値をすべて値 1 に置き換える場合は、以下の構文を使用します。\n",
        "\n",
        "\n",
        "> x[x==999] = 1\n",
        "\n",
        "4 より小さい値がすべて値 0 に置き換わるように v1 を変更します。"
      ],
      "metadata": {
        "id": "alO91fsO9zxi"
      }
    },
    {
      "cell_type": "code",
      "source": [
        "v1[v1 < 4] = 0\n",
        "v1"
      ],
      "metadata": {
        "colab": {
          "base_uri": "https://localhost:8080/"
        },
        "id": "90JAJ9Ex8Son",
        "outputId": "9ff3ac4f-e073-4cf8-d165-26056b7e541f"
      },
      "execution_count": 9,
      "outputs": [
        {
          "output_type": "execute_result",
          "data": {
            "text/plain": [
              "array([4.0753, 6.6678, 0.    , 0.    , 4.7243, 9.0698, 5.3002])"
            ]
          },
          "metadata": {},
          "execution_count": 9
        }
      ]
    },
    {
      "cell_type": "markdown",
      "source": [
        "論理演算子 and (&) および or (|) を使用して、論理比較を組み合わせることができます。\n",
        "\n",
        "4 より小さく、\"かつ\" 2 より大きい値を求めるには、& を次のように使用します。\n",
        "> x = v1[(v1<4) & (v1>2)]\n",
        "\n",
        "6 より大きい、\"または\" 2 より小さい値を求めるには、| を次のように使用します。\n",
        "> x = v1[(v1>6) | (v1<2)]\n",
        "\n",
        "sample 内にある、10 と 20 の間の値を取得してみてください。"
      ],
      "metadata": {
        "id": "el2woGm28f_r"
      }
    },
    {
      "cell_type": "code",
      "source": [
        "sample[(sample>10) & (sample<20)]"
      ],
      "metadata": {
        "colab": {
          "base_uri": "https://localhost:8080/"
        },
        "id": "9LF1mxFoDJQy",
        "outputId": "735d53fe-430c-4da7-dab5-b2fd38ebb6bd"
      },
      "execution_count": 10,
      "outputs": [
        {
          "output_type": "execute_result",
          "data": {
            "text/plain": [
              "array([18., 19.])"
            ]
          },
          "metadata": {},
          "execution_count": 10
        }
      ]
    }
  ]
}