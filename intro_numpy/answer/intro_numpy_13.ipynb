{
  "nbformat": 4,
  "nbformat_minor": 0,
  "metadata": {
    "colab": {
      "provenance": [],
      "authorship_tag": "ABX9TyPFEL8sVaegg54RZuSTY+HT",
      "include_colab_link": true
    },
    "kernelspec": {
      "name": "python3",
      "display_name": "Python 3"
    },
    "language_info": {
      "name": "python"
    }
  },
  "cells": [
    {
      "cell_type": "markdown",
      "metadata": {
        "id": "view-in-github",
        "colab_type": "text"
      },
      "source": [
        "<a href=\"https://colab.research.google.com/github/sp-au-mu-nl/MediaDataProgramming/blob/main/intro_numpy/answer/intro_numpy_13.ipynb\" target=\"_parent\"><img src=\"https://colab.research.google.com/assets/colab-badge.svg\" alt=\"Open In Colab\"/></a>"
      ]
    },
    {
      "cell_type": "markdown",
      "source": [
        "# info の取得"
      ],
      "metadata": {
        "id": "6FirgKTCebj2"
      }
    },
    {
      "cell_type": "code",
      "execution_count": 1,
      "metadata": {
        "id": "DvTbdC5KElGZ"
      },
      "outputs": [],
      "source": [
        "import numpy as np"
      ]
    },
    {
      "cell_type": "markdown",
      "source": [
        "np.info を用いると、numpy の関数を用いるのに役立つ例と情報を得られます。\n",
        "\n",
        "以下のタスクを完了するため、np.random.randint の情報を利用してみましょう。\n",
        "\n",
        "次のような行列 x を作成しましょう。\n",
        "\n",
        "*   1 から 20 までの範囲のランダムな整数を含む\n",
        "*   5行\n",
        "*   7列\n"
      ],
      "metadata": {
        "id": "6XvcEhtNGCRU"
      }
    },
    {
      "cell_type": "code",
      "source": [
        "np.info(np.random.randint)"
      ],
      "metadata": {
        "colab": {
          "base_uri": "https://localhost:8080/"
        },
        "id": "Jt4M3GfuExAH",
        "outputId": "00fbf971-8685-428d-da28-674c4fa88711"
      },
      "execution_count": 2,
      "outputs": [
        {
          "output_type": "stream",
          "name": "stdout",
          "text": [
            " randint(low, high=None, size=None, dtype=<class 'int'>)\n",
            "\n",
            "randint(low, high=None, size=None, dtype=int)\n",
            "\n",
            "Return random integers from `low` (inclusive) to `high` (exclusive).\n",
            "\n",
            "Return random integers from the \"discrete uniform\" distribution of\n",
            "the specified dtype in the \"half-open\" interval [`low`, `high`). If\n",
            "`high` is None (the default), then results are from [0, `low`).\n",
            "\n",
            ".. note::\n",
            "    New code should use the `~numpy.random.Generator.integers`\n",
            "    method of a `~numpy.random.Generator` instance instead;\n",
            "    please see the :ref:`random-quick-start`.\n",
            "\n",
            "Parameters\n",
            "----------\n",
            "low : int or array-like of ints\n",
            "    Lowest (signed) integers to be drawn from the distribution (unless\n",
            "    ``high=None``, in which case this parameter is one above the\n",
            "    *highest* such integer).\n",
            "high : int or array-like of ints, optional\n",
            "    If provided, one above the largest (signed) integer to be drawn\n",
            "    from the distribution (see above for behavior if ``high=None``).\n",
            "    If array-like, must contain integer values\n",
            "size : int or tuple of ints, optional\n",
            "    Output shape.  If the given shape is, e.g., ``(m, n, k)``, then\n",
            "    ``m * n * k`` samples are drawn.  Default is None, in which case a\n",
            "    single value is returned.\n",
            "dtype : dtype, optional\n",
            "    Desired dtype of the result. Byteorder must be native.\n",
            "    The default value is long.\n",
            "\n",
            "    .. versionadded:: 1.11.0\n",
            "\n",
            "    .. warning::\n",
            "      This function defaults to the C-long dtype, which is 32bit on windows\n",
            "      and otherwise 64bit on 64bit platforms (and 32bit on 32bit ones).\n",
            "      Since NumPy 2.0, NumPy's default integer is 32bit on 32bit platforms\n",
            "      and 64bit on 64bit platforms.  Which corresponds to `np.intp`.\n",
            "      (`dtype=int` is not the same as in most NumPy functions.)\n",
            "\n",
            "Returns\n",
            "-------\n",
            "out : int or ndarray of ints\n",
            "    `size`-shaped array of random integers from the appropriate\n",
            "    distribution, or a single such random int if `size` not provided.\n",
            "\n",
            "See Also\n",
            "--------\n",
            "random_integers : similar to `randint`, only for the closed\n",
            "    interval [`low`, `high`], and 1 is the lowest value if `high` is\n",
            "    omitted.\n",
            "random.Generator.integers: which should be used for new code.\n",
            "\n",
            "Examples\n",
            "--------\n",
            ">>> np.random.randint(2, size=10)\n",
            "array([1, 0, 0, 0, 1, 1, 0, 0, 1, 0]) # random\n",
            ">>> np.random.randint(1, size=10)\n",
            "array([0, 0, 0, 0, 0, 0, 0, 0, 0, 0])\n",
            "\n",
            "Generate a 2 x 4 array of ints between 0 and 4, inclusive:\n",
            "\n",
            ">>> np.random.randint(5, size=(2, 4))\n",
            "array([[4, 0, 2, 1], # random\n",
            "       [3, 2, 2, 0]])\n",
            "\n",
            "Generate a 1 x 3 array with 3 different upper bounds\n",
            "\n",
            ">>> np.random.randint(1, [3, 5, 10])\n",
            "array([2, 2, 9]) # random\n",
            "\n",
            "Generate a 1 by 3 array with 3 different lower bounds\n",
            "\n",
            ">>> np.random.randint([1, 5, 7], 10)\n",
            "array([9, 8, 7]) # random\n",
            "\n",
            "Generate a 2 by 4 array using broadcasting with dtype of uint8\n",
            "\n",
            ">>> np.random.randint([1, 3, 5, 7], [[10], [20]], dtype=np.uint8)\n",
            "array([[ 8,  6,  9,  7], # random\n",
            "       [ 1, 16,  9, 12]], dtype=uint8)\n"
          ]
        }
      ]
    },
    {
      "cell_type": "code",
      "source": [
        "x = np.random.randint(1,20,size=(5,7))\n",
        "x"
      ],
      "metadata": {
        "colab": {
          "base_uri": "https://localhost:8080/"
        },
        "id": "GRZeLfLdGwAp",
        "outputId": "6ab9ffab-8319-4695-cea7-0e9375866a09"
      },
      "execution_count": 3,
      "outputs": [
        {
          "output_type": "execute_result",
          "data": {
            "text/plain": [
              "array([[14, 18,  2,  4,  8,  8,  9],\n",
              "       [12, 11, 18,  6, 13,  6, 14],\n",
              "       [14, 10,  7, 10, 13, 10, 19],\n",
              "       [11,  5,  5,  1, 17, 12,  3],\n",
              "       [14, 13, 11, 18,  4, 19,  8]])"
            ]
          },
          "metadata": {},
          "execution_count": 3
        }
      ]
    },
    {
      "cell_type": "markdown",
      "source": [
        "関数などについては、[Numpy reference](https://numpy.org/doc/stable/reference/index.html#reference) で検索することもできます。"
      ],
      "metadata": {
        "id": "0YZwrDU0HR7v"
      }
    }
  ]
}