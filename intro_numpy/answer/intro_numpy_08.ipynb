{
  "nbformat": 4,
  "nbformat_minor": 0,
  "metadata": {
    "colab": {
      "provenance": [],
      "authorship_tag": "ABX9TyPwhtE8V9utENCVQObROdoh",
      "include_colab_link": true
    },
    "kernelspec": {
      "name": "python3",
      "display_name": "Python 3"
    },
    "language_info": {
      "name": "python"
    }
  },
  "cells": [
    {
      "cell_type": "markdown",
      "metadata": {
        "id": "view-in-github",
        "colab_type": "text"
      },
      "source": [
        "<a href=\"https://colab.research.google.com/github/sp-au-mu-nl/MediaDataProgramming/blob/main/intro_numpy/answer/intro_numpy_08.ipynb\" target=\"_parent\"><img src=\"https://colab.research.google.com/assets/colab-badge.svg\" alt=\"Open In Colab\"/></a>"
      ]
    },
    {
      "cell_type": "markdown",
      "source": [
        "# 配列内のインデクス付け"
      ],
      "metadata": {
        "id": "Fe9USQQ4a6_u"
      }
    },
    {
      "cell_type": "code",
      "source": [
        "import numpy as np\n",
        "\n",
        "data = np.array([[3, 0.53, 4.0753, np.nan],\n",
        "              [18, 1.78, 6.6678, 2.1328],\n",
        "              [19, 0.86, 1.5177, 3.6852],\n",
        "              [20, 1.6, 3.6375, 8.5389],\n",
        "              [21, 3, 4.7243, 10.157],\n",
        "              [23, 6.11, 9.0698, 2.8739],\n",
        "              [38, 2.54, 5.3002, 4.4508]])"
      ],
      "metadata": {
        "id": "lm4E7kHz1QD1"
      },
      "execution_count": 1,
      "outputs": []
    },
    {
      "cell_type": "markdown",
      "source": [
        "行、列のインデクスを使用して、配列から値を抽出しましょう。\n",
        "```\n",
        "y = A[4,6]\n",
        "```\n",
        "この構文は、A の 5行7列目の値を抽出し、その結果を変数 y に代入します。\n",
        "\n",
        "変数 data の第6行3列目の値を含む変数 x を作成しましょう。"
      ],
      "metadata": {
        "id": "Yaf9lns31FyN"
      }
    },
    {
      "cell_type": "code",
      "execution_count": 2,
      "metadata": {
        "colab": {
          "base_uri": "https://localhost:8080/"
        },
        "id": "KRkFuIrM0zRM",
        "outputId": "ebcce7b4-603d-429b-c459-24f01450ed0f"
      },
      "outputs": [
        {
          "output_type": "execute_result",
          "data": {
            "text/plain": [
              "np.float64(9.0698)"
            ]
          },
          "metadata": {},
          "execution_count": 2
        }
      ],
      "source": [
        "x = data[5,2]\n",
        "x"
      ]
    },
    {
      "cell_type": "markdown",
      "source": [
        "インデクスに -1 を指定すると最後の要素を参照できます。\n",
        "\n",
        "変数 data の最終行 3 列目の値を抽出して、変数 x に代入しましょう。"
      ],
      "metadata": {
        "id": "xQgAHgHJ9Tkl"
      }
    },
    {
      "cell_type": "code",
      "source": [
        "x = data[-1,2]\n",
        "x"
      ],
      "metadata": {
        "colab": {
          "base_uri": "https://localhost:8080/"
        },
        "id": "XziMwHrs9Xmw",
        "outputId": "7f2d6ff7-92dd-400b-83b2-3bdbe77510bc"
      },
      "execution_count": 3,
      "outputs": [
        {
          "output_type": "execute_result",
          "data": {
            "text/plain": [
              "np.float64(5.3002)"
            ]
          },
          "metadata": {},
          "execution_count": 3
        }
      ]
    },
    {
      "cell_type": "markdown",
      "source": [
        "- のインデクスを使うと、最後から 2 番目などの要素も参照できます。\n",
        "\n",
        "data の最後から2番目の行、3列目の値を含むスカラー変数 x を作成しましょう。"
      ],
      "metadata": {
        "id": "alO91fsO9zxi"
      }
    },
    {
      "cell_type": "code",
      "source": [
        "x = data[-2,2]\n",
        "x"
      ],
      "metadata": {
        "colab": {
          "base_uri": "https://localhost:8080/"
        },
        "id": "WmpfghY1-D0j",
        "outputId": "5fc309f9-ed70-4988-f0dc-60384a85eb12"
      },
      "execution_count": 4,
      "outputs": [
        {
          "output_type": "execute_result",
          "data": {
            "text/plain": [
              "np.float64(9.0698)"
            ]
          },
          "metadata": {},
          "execution_count": 4
        }
      ]
    },
    {
      "cell_type": "code",
      "source": [
        "data[5]"
      ],
      "metadata": {
        "colab": {
          "base_uri": "https://localhost:8080/"
        },
        "id": "-ZJfakBG-TUW",
        "outputId": "ceaef0bc-e681-44a6-ce6b-f5c00fc767b2"
      },
      "execution_count": 5,
      "outputs": [
        {
          "output_type": "execute_result",
          "data": {
            "text/plain": [
              "array([23.    ,  6.11  ,  9.0698,  2.8739])"
            ]
          },
          "metadata": {},
          "execution_count": 5
        }
      ]
    },
    {
      "cell_type": "markdown",
      "source": [
        "1つの行列に対し、インデクスを1つだけ使用する場合は、各行を右に移動し、次の行へと移っていきます。unravel_index を使うと 1 つだけのインデクスで要素にアクセスできます。"
      ],
      "metadata": {
        "id": "HarjiApyAPQ6"
      }
    },
    {
      "cell_type": "code",
      "source": [
        "A = np.arange(8).reshape(4,2)\n",
        "A"
      ],
      "metadata": {
        "colab": {
          "base_uri": "https://localhost:8080/"
        },
        "id": "3IQx5lAU_mZ4",
        "outputId": "8ae57c92-796c-419d-c8c6-7c6dc263a865"
      },
      "execution_count": 6,
      "outputs": [
        {
          "output_type": "execute_result",
          "data": {
            "text/plain": [
              "array([[0, 1],\n",
              "       [2, 3],\n",
              "       [4, 5],\n",
              "       [6, 7]])"
            ]
          },
          "metadata": {},
          "execution_count": 6
        }
      ]
    },
    {
      "cell_type": "code",
      "source": [
        "A[np.unravel_index(5,(4,2))]"
      ],
      "metadata": {
        "colab": {
          "base_uri": "https://localhost:8080/"
        },
        "id": "dQoN6ssU_5yN",
        "outputId": "f480b3df-24fa-4292-fe06-2d17600d5dfb"
      },
      "execution_count": 7,
      "outputs": [
        {
          "output_type": "execute_result",
          "data": {
            "text/plain": [
              "np.int64(5)"
            ]
          },
          "metadata": {},
          "execution_count": 7
        }
      ]
    },
    {
      "cell_type": "markdown",
      "source": [
        "インデクス 5 (6番目)の要素は、第3行2列の値となることがわかります。\n",
        "\n",
        "data の 2 番目の要素を抽出してみてください。"
      ],
      "metadata": {
        "id": "J9w9OkOOAwbN"
      }
    },
    {
      "cell_type": "code",
      "source": [
        "data[np.unravel_index(1,(4,2))]"
      ],
      "metadata": {
        "colab": {
          "base_uri": "https://localhost:8080/"
        },
        "id": "z2DOER3LBNV5",
        "outputId": "67d31bc1-b50a-4cfd-8085-07c13a4271b1"
      },
      "execution_count": 8,
      "outputs": [
        {
          "output_type": "execute_result",
          "data": {
            "text/plain": [
              "np.float64(0.53)"
            ]
          },
          "metadata": {},
          "execution_count": 8
        }
      ]
    },
    {
      "cell_type": "markdown",
      "source": [
        "変数をインデクスとして使用することもできます。"
      ],
      "metadata": {
        "id": "qzHSwPZABXg_"
      }
    }
  ]
}